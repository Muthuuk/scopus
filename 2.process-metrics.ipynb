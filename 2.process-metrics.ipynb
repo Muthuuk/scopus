{
 "cells": [
  {
   "cell_type": "markdown",
   "metadata": {},
   "source": [
    "# Process [journalmetrics](https://journalmetrics.scopus.com/) data into tidy TSVs"
   ]
  },
  {
   "cell_type": "code",
   "execution_count": 1,
   "metadata": {
    "collapsed": true
   },
   "outputs": [],
   "source": [
    "import pathlib\n",
    "\n",
    "import pandas"
   ]
  },
  {
   "cell_type": "markdown",
   "metadata": {},
   "source": [
    "## Prepare a dataframe of metrics and values"
   ]
  },
  {
   "cell_type": "code",
   "execution_count": 2,
   "metadata": {},
   "outputs": [
    {
     "data": {
      "text/plain": [
       "['2016 All', '2015 All', '2014 All', '2013 All', '2012 All', '2011 All']"
      ]
     },
     "execution_count": 2,
     "metadata": {},
     "output_type": "execute_result"
    }
   ],
   "source": [
    "path = pathlib.Path('download/CiteScore_Metrics_2011-2016_Download_21Jun2017.xlsx')\n",
    "xlsx = pandas.ExcelFile(path)\n",
    "sheets = [sheet for sheet in xlsx.sheet_names if ' All' in sheet]\n",
    "sheets"
   ]
  },
  {
   "cell_type": "code",
   "execution_count": 3,
   "metadata": {
    "collapsed": true
   },
   "outputs": [],
   "source": [
    "renamer = {\n",
    "    'Scopus SourceID': 'scopus_id',\n",
    "}\n",
    "\n",
    "metrics = ['CiteScore', 'SNIP', 'SJR']\n",
    "\n",
    "dfs = list()\n",
    "for sheet in sheets:\n",
    "    year, _ = sheet.split()\n",
    "    year = int(year)\n",
    "\n",
    "    df = (\n",
    "        xlsx.parse(sheet, skiprows=1)\n",
    "        .rename(columns=renamer)\n",
    "        .drop_duplicates(['scopus_id'] + metrics)\n",
    "        .assign(year=year)\n",
    "    )\n",
    "\n",
    "    df = pandas.melt(df, id_vars=['scopus_id', 'year'], value_vars=metrics, var_name='metric').dropna()\n",
    "    dfs.append(df)\n",
    "\n",
    "metric_df = pandas.concat(dfs).sort_values(['scopus_id', 'year', 'metric'])"
   ]
  },
  {
   "cell_type": "code",
   "execution_count": 4,
   "metadata": {},
   "outputs": [
    {
     "data": {
      "text/plain": [
       "372198"
      ]
     },
     "execution_count": 4,
     "metadata": {},
     "output_type": "execute_result"
    }
   ],
   "source": [
    "len(metric_df)"
   ]
  },
  {
   "cell_type": "code",
   "execution_count": 5,
   "metadata": {},
   "outputs": [
    {
     "data": {
      "text/html": [
       "<div>\n",
       "<style scoped>\n",
       "    .dataframe tbody tr th:only-of-type {\n",
       "        vertical-align: middle;\n",
       "    }\n",
       "\n",
       "    .dataframe tbody tr th {\n",
       "        vertical-align: top;\n",
       "    }\n",
       "\n",
       "    .dataframe thead th {\n",
       "        text-align: right;\n",
       "    }\n",
       "</style>\n",
       "<table border=\"1\" class=\"dataframe\">\n",
       "  <thead>\n",
       "    <tr style=\"text-align: right;\">\n",
       "      <th></th>\n",
       "      <th>scopus_id</th>\n",
       "      <th>year</th>\n",
       "      <th>metric</th>\n",
       "      <th>value</th>\n",
       "    </tr>\n",
       "  </thead>\n",
       "  <tbody>\n",
       "    <tr>\n",
       "      <th>7926</th>\n",
       "      <td>12001</td>\n",
       "      <td>2011</td>\n",
       "      <td>CiteScore</td>\n",
       "      <td>0.820</td>\n",
       "    </tr>\n",
       "    <tr>\n",
       "      <th>44942</th>\n",
       "      <td>12001</td>\n",
       "      <td>2011</td>\n",
       "      <td>SJR</td>\n",
       "      <td>0.556</td>\n",
       "    </tr>\n",
       "  </tbody>\n",
       "</table>\n",
       "</div>"
      ],
      "text/plain": [
       "       scopus_id  year     metric  value\n",
       "7926       12001  2011  CiteScore  0.820\n",
       "44942      12001  2011        SJR  0.556"
      ]
     },
     "execution_count": 5,
     "metadata": {},
     "output_type": "execute_result"
    }
   ],
   "source": [
    "metric_df.head(2)"
   ]
  },
  {
   "cell_type": "code",
   "execution_count": 6,
   "metadata": {},
   "outputs": [
    {
     "data": {
      "text/html": [
       "<div>\n",
       "<style scoped>\n",
       "    .dataframe tbody tr th:only-of-type {\n",
       "        vertical-align: middle;\n",
       "    }\n",
       "\n",
       "    .dataframe tbody tr th {\n",
       "        vertical-align: top;\n",
       "    }\n",
       "\n",
       "    .dataframe thead th {\n",
       "        text-align: right;\n",
       "    }\n",
       "</style>\n",
       "<table border=\"1\" class=\"dataframe\">\n",
       "  <thead>\n",
       "    <tr style=\"text-align: right;\">\n",
       "      <th>metric</th>\n",
       "      <th>CiteScore</th>\n",
       "      <th>SJR</th>\n",
       "      <th>SNIP</th>\n",
       "      <th>All</th>\n",
       "    </tr>\n",
       "    <tr>\n",
       "      <th>year</th>\n",
       "      <th></th>\n",
       "      <th></th>\n",
       "      <th></th>\n",
       "      <th></th>\n",
       "    </tr>\n",
       "  </thead>\n",
       "  <tbody>\n",
       "    <tr>\n",
       "      <th>2011</th>\n",
       "      <td>18508</td>\n",
       "      <td>18449</td>\n",
       "      <td>17779</td>\n",
       "      <td>54736</td>\n",
       "    </tr>\n",
       "    <tr>\n",
       "      <th>2012</th>\n",
       "      <td>19816</td>\n",
       "      <td>19755</td>\n",
       "      <td>19103</td>\n",
       "      <td>58674</td>\n",
       "    </tr>\n",
       "    <tr>\n",
       "      <th>2013</th>\n",
       "      <td>20840</td>\n",
       "      <td>20778</td>\n",
       "      <td>20153</td>\n",
       "      <td>61771</td>\n",
       "    </tr>\n",
       "    <tr>\n",
       "      <th>2014</th>\n",
       "      <td>21549</td>\n",
       "      <td>21487</td>\n",
       "      <td>20853</td>\n",
       "      <td>63889</td>\n",
       "    </tr>\n",
       "    <tr>\n",
       "      <th>2015</th>\n",
       "      <td>22256</td>\n",
       "      <td>22193</td>\n",
       "      <td>21535</td>\n",
       "      <td>65984</td>\n",
       "    </tr>\n",
       "    <tr>\n",
       "      <th>2016</th>\n",
       "      <td>22618</td>\n",
       "      <td>22570</td>\n",
       "      <td>21956</td>\n",
       "      <td>67144</td>\n",
       "    </tr>\n",
       "    <tr>\n",
       "      <th>All</th>\n",
       "      <td>125587</td>\n",
       "      <td>125232</td>\n",
       "      <td>121379</td>\n",
       "      <td>372198</td>\n",
       "    </tr>\n",
       "  </tbody>\n",
       "</table>\n",
       "</div>"
      ],
      "text/plain": [
       "metric  CiteScore     SJR    SNIP     All\n",
       "year                                     \n",
       "2011        18508   18449   17779   54736\n",
       "2012        19816   19755   19103   58674\n",
       "2013        20840   20778   20153   61771\n",
       "2014        21549   21487   20853   63889\n",
       "2015        22256   22193   21535   65984\n",
       "2016        22618   22570   21956   67144\n",
       "All        125587  125232  121379  372198"
      ]
     },
     "execution_count": 6,
     "metadata": {},
     "output_type": "execute_result"
    }
   ],
   "source": [
    "pandas.crosstab(metric_df.year, metric_df.metric, margins=True)"
   ]
  },
  {
   "cell_type": "code",
   "execution_count": 7,
   "metadata": {
    "scrolled": true
   },
   "outputs": [],
   "source": [
    "path = pathlib.Path('data/metrics.tsv.gz')\n",
    "metric_df.to_csv(path, sep='\\t', index=False, float_format='%.4g', compression='gzip')"
   ]
  }
 ],
 "metadata": {
  "kernelspec": {
   "display_name": "Python [conda env:scopus]",
   "language": "python",
   "name": "conda-env-scopus-py"
  },
  "language_info": {
   "codemirror_mode": {
    "name": "ipython",
    "version": 3
   },
   "file_extension": ".py",
   "mimetype": "text/x-python",
   "name": "python",
   "nbconvert_exporter": "python",
   "pygments_lexer": "ipython3",
   "version": "3.6.3"
  }
 },
 "nbformat": 4,
 "nbformat_minor": 1
}
