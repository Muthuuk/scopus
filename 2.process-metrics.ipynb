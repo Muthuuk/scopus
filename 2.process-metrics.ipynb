{
 "cells": [
  {
   "cell_type": "markdown",
   "metadata": {},
   "source": [
    "# Process [journalmetrics](https://journalmetrics.scopus.com/) data into tidy TSVs"
   ]
  },
  {
   "cell_type": "code",
   "execution_count": 1,
   "metadata": {
    "collapsed": true
   },
   "outputs": [],
   "source": [
    "import os\n",
    "import gzip\n",
    "\n",
    "import pandas"
   ]
  },
  {
   "cell_type": "markdown",
   "metadata": {},
   "source": [
    "## Prepare a dataframe of metrics and values"
   ]
  },
  {
   "cell_type": "code",
   "execution_count": 2,
   "metadata": {},
   "outputs": [
    {
     "data": {
      "text/plain": [
       "['2015 All', '2014 All', '2013 All', '2012 All', '2011 All']"
      ]
     },
     "execution_count": 2,
     "metadata": {},
     "output_type": "execute_result"
    }
   ],
   "source": [
    "path = os.path.join('download', 'CiteScore_Metrics_2011-2105_Download_19_Jan2017.xlsx')\n",
    "xlsx = pandas.ExcelFile(path)\n",
    "sheets = [sheet for sheet in xlsx.sheet_names if ' All' in sheet]\n",
    "sheets"
   ]
  },
  {
   "cell_type": "code",
   "execution_count": 3,
   "metadata": {
    "collapsed": true
   },
   "outputs": [],
   "source": [
    "renamer = {\n",
    "    'Scopus SourceID': 'scopus_id',\n",
    "}\n",
    "\n",
    "metrics = ['CiteScore', 'SNIP', 'SJR']\n",
    "\n",
    "dfs = list()\n",
    "for sheet in sheets:\n",
    "    year, _ = sheet.split()\n",
    "    year = int(year)\n",
    "\n",
    "    df = (\n",
    "        xlsx.parse('2015 All', skiprows=1)\n",
    "        .rename(columns=renamer)\n",
    "        .drop_duplicates(['scopus_id'] + metrics)\n",
    "        .assign(year=year)\n",
    "    )\n",
    "\n",
    "    df = pandas.melt(df, id_vars=['scopus_id', 'year'], value_vars=metrics, var_name='metric').dropna()\n",
    "    dfs.append(df)\n",
    "\n",
    "metric_df = pandas.concat(dfs).sort_values(['scopus_id', 'year', 'metric'])"
   ]
  },
  {
   "cell_type": "code",
   "execution_count": 4,
   "metadata": {},
   "outputs": [
    {
     "data": {
      "text/plain": [
       "329110"
      ]
     },
     "execution_count": 4,
     "metadata": {},
     "output_type": "execute_result"
    }
   ],
   "source": [
    "len(metric_df)"
   ]
  },
  {
   "cell_type": "code",
   "execution_count": 5,
   "metadata": {},
   "outputs": [
    {
     "data": {
      "text/html": [
       "<div>\n",
       "<table border=\"1\" class=\"dataframe\">\n",
       "  <thead>\n",
       "    <tr style=\"text-align: right;\">\n",
       "      <th></th>\n",
       "      <th>scopus_id</th>\n",
       "      <th>year</th>\n",
       "      <th>metric</th>\n",
       "      <th>value</th>\n",
       "    </tr>\n",
       "  </thead>\n",
       "  <tbody>\n",
       "    <tr>\n",
       "      <th>3301</th>\n",
       "      <td>12001</td>\n",
       "      <td>2011</td>\n",
       "      <td>CiteScore</td>\n",
       "      <td>2.340</td>\n",
       "    </tr>\n",
       "    <tr>\n",
       "      <th>47813</th>\n",
       "      <td>12001</td>\n",
       "      <td>2011</td>\n",
       "      <td>SJR</td>\n",
       "      <td>0.998</td>\n",
       "    </tr>\n",
       "  </tbody>\n",
       "</table>\n",
       "</div>"
      ],
      "text/plain": [
       "       scopus_id  year     metric  value\n",
       "3301       12001  2011  CiteScore  2.340\n",
       "47813      12001  2011        SJR  0.998"
      ]
     },
     "execution_count": 5,
     "metadata": {},
     "output_type": "execute_result"
    }
   ],
   "source": [
    "metric_df.head(2)"
   ]
  },
  {
   "cell_type": "code",
   "execution_count": 6,
   "metadata": {},
   "outputs": [
    {
     "data": {
      "text/plain": [
       "CiteScore    111280\n",
       "SJR          110220\n",
       "SNIP         107610\n",
       "Name: metric, dtype: int64"
      ]
     },
     "execution_count": 6,
     "metadata": {},
     "output_type": "execute_result"
    }
   ],
   "source": [
    "metric_df.metric.value_counts()"
   ]
  },
  {
   "cell_type": "code",
   "execution_count": 7,
   "metadata": {},
   "outputs": [
    {
     "data": {
      "text/plain": [
       "2015    65822\n",
       "2014    65822\n",
       "2013    65822\n",
       "2012    65822\n",
       "2011    65822\n",
       "Name: year, dtype: int64"
      ]
     },
     "execution_count": 7,
     "metadata": {},
     "output_type": "execute_result"
    }
   ],
   "source": [
    "metric_df.year.value_counts()"
   ]
  },
  {
   "cell_type": "code",
   "execution_count": 8,
   "metadata": {
    "collapsed": true,
    "scrolled": true
   },
   "outputs": [],
   "source": [
    "with gzip.open('data/metrics.tsv.gz', 'wt') as write_file:\n",
    "    metric_df.to_csv(write_file, sep='\\t', index=False, float_format='%.4g')"
   ]
  }
 ],
 "metadata": {
  "kernelspec": {
   "display_name": "Python [conda env:journalmetrics]",
   "language": "python",
   "name": "conda-env-journalmetrics-py"
  },
  "language_info": {
   "codemirror_mode": {
    "name": "ipython",
    "version": 3
   },
   "file_extension": ".py",
   "mimetype": "text/x-python",
   "name": "python",
   "nbconvert_exporter": "python",
   "pygments_lexer": "ipython3",
   "version": "3.6.0"
  }
 },
 "nbformat": 4,
 "nbformat_minor": 1
}
