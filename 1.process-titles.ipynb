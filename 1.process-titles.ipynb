{
 "cells": [
  {
   "cell_type": "markdown",
   "metadata": {},
   "source": [
    "# Scopus Title Data"
   ]
  },
  {
   "cell_type": "code",
   "execution_count": 1,
   "metadata": {
    "collapsed": true
   },
   "outputs": [],
   "source": [
    "import gzip\n",
    "import os\n",
    "import re\n",
    "\n",
    "import pandas\n",
    "\n",
    "from utilities import format_issn"
   ]
  },
  {
   "cell_type": "code",
   "execution_count": 2,
   "metadata": {},
   "outputs": [],
   "source": [
    "# Load dataset\n",
    "path = os.path.join('download', 'title_list.xlsx')\n",
    "source_df = pandas.read_excel(path, sheetname='Scopus Sources October 2016')\n",
    "conf_96_df = pandas.read_excel(path, sheetname='Conf. Proceedings post-1995')\n",
    "conf_95_df = pandas.read_excel(path, sheetname='Conf. Proceedings pre-1996')\n",
    "code_df = pandas.read_excel(path, sheetname='ASJC Code list ')"
   ]
  },
  {
   "cell_type": "code",
   "execution_count": 3,
   "metadata": {
    "collapsed": true
   },
   "outputs": [],
   "source": [
    "# Rename columns on dataframes\n",
    "renamer = {\n",
    "    'Sourcerecord id ': 'scopus_id',\n",
    "    'All Science Classification Codes (ASJC)': 'asjc_codes',\n",
    "    'ASJC code': 'asjc_codes',\n",
    "    'Print-ISSN': 'issn_print',\n",
    "    'E-ISSN': 'issn_electronic',\n",
    "    'ISSN': 'issn_unspecified',\n",
    "}\n",
    "\n",
    "for df in source_df, conf_96_df, conf_95_df:\n",
    "    df.rename(columns=renamer, inplace=True)"
   ]
  },
  {
   "cell_type": "markdown",
   "metadata": {},
   "source": [
    "## Titles"
   ]
  },
  {
   "cell_type": "code",
   "execution_count": 4,
   "metadata": {
    "collapsed": true
   },
   "outputs": [],
   "source": [
    "# Extract title names\n",
    "rows = list()\n",
    "for df in source_df, conf_96_df, conf_95_df:\n",
    "    rows.extend(zip(df.scopus_id, df.iloc[:, 1]))\n",
    "\n",
    "rows.sort()\n",
    "title_df = pandas.DataFrame(rows, columns=['scopus_id', 'title_name'])"
   ]
  },
  {
   "cell_type": "code",
   "execution_count": 5,
   "metadata": {
    "collapsed": true
   },
   "outputs": [],
   "source": [
    "path = os.path.join('data', 'titles.tsv')\n",
    "title_df.to_csv(path, index=False, sep='\\t')"
   ]
  },
  {
   "cell_type": "code",
   "execution_count": 6,
   "metadata": {},
   "outputs": [
    {
     "data": {
      "text/html": [
       "<div>\n",
       "<table border=\"1\" class=\"dataframe\">\n",
       "  <thead>\n",
       "    <tr style=\"text-align: right;\">\n",
       "      <th></th>\n",
       "      <th>scopus_id</th>\n",
       "      <th>title_name</th>\n",
       "    </tr>\n",
       "  </thead>\n",
       "  <tbody>\n",
       "    <tr>\n",
       "      <th>0</th>\n",
       "      <td>12000</td>\n",
       "      <td>Journal of Technology in Counseling</td>\n",
       "    </tr>\n",
       "    <tr>\n",
       "      <th>1</th>\n",
       "      <td>12001</td>\n",
       "      <td>Journal of the Experimental Analysis of Behavior</td>\n",
       "    </tr>\n",
       "  </tbody>\n",
       "</table>\n",
       "</div>"
      ],
      "text/plain": [
       "   scopus_id                                        title_name\n",
       "0      12000               Journal of Technology in Counseling\n",
       "1      12001  Journal of the Experimental Analysis of Behavior"
      ]
     },
     "execution_count": 6,
     "metadata": {},
     "output_type": "execute_result"
    }
   ],
   "source": [
    "title_df.head(2)"
   ]
  },
  {
   "cell_type": "markdown",
   "metadata": {},
   "source": [
    "## ISSN"
   ]
  },
  {
   "cell_type": "code",
   "execution_count": 7,
   "metadata": {},
   "outputs": [
    {
     "name": "stderr",
     "output_type": "stream",
     "text": [
      "WARNING:root:ISSN does not have length 8: 02561\n"
     ]
    }
   ],
   "source": [
    "value_vars = ['issn_print', 'issn_electronic', 'issn_unspecified']\n",
    "issn_dfs = list()\n",
    "for df in source_df, conf_96_df, conf_95_df:\n",
    "    df = pandas.melt(df, id_vars='scopus_id', value_vars=value_vars, var_name='issn_type', value_name='issn')\n",
    "    df.issn = df.issn.map(format_issn)\n",
    "    df.issn_type = df.issn_type.map(lambda x: x.split('_')[1])\n",
    "    issn_dfs.append(df.dropna())\n",
    "issn_df = (\n",
    "    pandas.concat(issn_dfs)\n",
    "    .dropna()\n",
    "    .sort_values(['scopus_id', 'issn_type', 'issn'])\n",
    "    .drop_duplicates(['scopus_id', 'issn'])\n",
    ")"
   ]
  },
  {
   "cell_type": "code",
   "execution_count": 8,
   "metadata": {},
   "outputs": [
    {
     "data": {
      "text/plain": [
       "45380"
      ]
     },
     "execution_count": 8,
     "metadata": {},
     "output_type": "execute_result"
    }
   ],
   "source": [
    "len(issn_df)"
   ]
  },
  {
   "cell_type": "code",
   "execution_count": 9,
   "metadata": {
    "scrolled": true
   },
   "outputs": [
    {
     "data": {
      "text/html": [
       "<div>\n",
       "<table border=\"1\" class=\"dataframe\">\n",
       "  <thead>\n",
       "    <tr style=\"text-align: right;\">\n",
       "      <th></th>\n",
       "      <th>scopus_id</th>\n",
       "      <th>issn_type</th>\n",
       "      <th>issn</th>\n",
       "    </tr>\n",
       "  </thead>\n",
       "  <tbody>\n",
       "    <tr>\n",
       "      <th>21137</th>\n",
       "      <td>12000</td>\n",
       "      <td>print</td>\n",
       "      <td>1527-6228</td>\n",
       "    </tr>\n",
       "    <tr>\n",
       "      <th>21353</th>\n",
       "      <td>12001</td>\n",
       "      <td>print</td>\n",
       "      <td>0022-5002</td>\n",
       "    </tr>\n",
       "    <tr>\n",
       "      <th>57251</th>\n",
       "      <td>12002</td>\n",
       "      <td>electronic</td>\n",
       "      <td>1520-6696</td>\n",
       "    </tr>\n",
       "  </tbody>\n",
       "</table>\n",
       "</div>"
      ],
      "text/plain": [
       "       scopus_id   issn_type       issn\n",
       "21137      12000       print  1527-6228\n",
       "21353      12001       print  0022-5002\n",
       "57251      12002  electronic  1520-6696"
      ]
     },
     "execution_count": 9,
     "metadata": {},
     "output_type": "execute_result"
    }
   ],
   "source": [
    "issn_df.head(3)"
   ]
  },
  {
   "cell_type": "code",
   "execution_count": 10,
   "metadata": {
    "collapsed": true
   },
   "outputs": [],
   "source": [
    "path = os.path.join('data', 'issn.tsv')\n",
    "issn_df.to_csv(path, sep='\\t', index=False)"
   ]
  },
  {
   "cell_type": "markdown",
   "metadata": {},
   "source": [
    "## ASJC Codes\n",
    "\n",
    "All Science Journal Classification (ASJC) Codes"
   ]
  },
  {
   "cell_type": "code",
   "execution_count": 11,
   "metadata": {
    "collapsed": true
   },
   "outputs": [],
   "source": [
    "# Extract ASJC code descriptions\n",
    "code_df = code_df.rename(columns={'Code': 'asjc_code', 'Description': 'asjc_description'})\n",
    "code_df = code_df[['asjc_code', 'asjc_description']]"
   ]
  },
  {
   "cell_type": "code",
   "execution_count": 12,
   "metadata": {
    "collapsed": true
   },
   "outputs": [],
   "source": [
    "path = os.path.join('data', 'asjc-codes.tsv')\n",
    "code_df.to_csv(path, index=False, sep='\\t')"
   ]
  },
  {
   "cell_type": "code",
   "execution_count": 13,
   "metadata": {},
   "outputs": [
    {
     "data": {
      "text/html": [
       "<div>\n",
       "<table border=\"1\" class=\"dataframe\">\n",
       "  <thead>\n",
       "    <tr style=\"text-align: right;\">\n",
       "      <th></th>\n",
       "      <th>asjc_code</th>\n",
       "      <th>asjc_description</th>\n",
       "    </tr>\n",
       "  </thead>\n",
       "  <tbody>\n",
       "    <tr>\n",
       "      <th>0</th>\n",
       "      <td>1000</td>\n",
       "      <td>Multidisciplinary</td>\n",
       "    </tr>\n",
       "    <tr>\n",
       "      <th>1</th>\n",
       "      <td>1100</td>\n",
       "      <td>Agricultural and Biological Sciences(all)</td>\n",
       "    </tr>\n",
       "  </tbody>\n",
       "</table>\n",
       "</div>"
      ],
      "text/plain": [
       "   asjc_code                           asjc_description\n",
       "0       1000                          Multidisciplinary\n",
       "1       1100  Agricultural and Biological Sciences(all)"
      ]
     },
     "execution_count": 13,
     "metadata": {},
     "output_type": "execute_result"
    }
   ],
   "source": [
    "code_df.head(2)"
   ]
  },
  {
   "cell_type": "code",
   "execution_count": 14,
   "metadata": {
    "collapsed": true
   },
   "outputs": [],
   "source": [
    "# Extract title to code mapping\n",
    "rows = list()\n",
    "for df in source_df, conf_96_df, conf_95_df:\n",
    "    for scopus_id, codes in zip(df.scopus_id, df.asjc_codes):\n",
    "        for code in re.split(r'[,;] *', str(codes)):\n",
    "            code = code.strip()\n",
    "            try:\n",
    "                code = int(code)\n",
    "            except ValueError:\n",
    "                continue\n",
    "            rows.append((scopus_id, code))\n",
    "\n",
    "rows.sort()\n",
    "title_codes_df = pandas.DataFrame(rows, columns=['scopus_id', 'asjc_code'])\n",
    "title_codes_df = title_codes_df.drop_duplicates()"
   ]
  },
  {
   "cell_type": "code",
   "execution_count": 15,
   "metadata": {
    "collapsed": true
   },
   "outputs": [],
   "source": [
    "path = os.path.join('data', 'titles-asjc-codes.tsv')\n",
    "title_codes_df.to_csv(path, index=False, sep='\\t')"
   ]
  },
  {
   "cell_type": "code",
   "execution_count": 16,
   "metadata": {},
   "outputs": [
    {
     "data": {
      "text/html": [
       "<div>\n",
       "<table border=\"1\" class=\"dataframe\">\n",
       "  <thead>\n",
       "    <tr style=\"text-align: right;\">\n",
       "      <th></th>\n",
       "      <th>scopus_id</th>\n",
       "      <th>asjc_code</th>\n",
       "    </tr>\n",
       "  </thead>\n",
       "  <tbody>\n",
       "    <tr>\n",
       "      <th>0</th>\n",
       "      <td>12000</td>\n",
       "      <td>1705</td>\n",
       "    </tr>\n",
       "    <tr>\n",
       "      <th>1</th>\n",
       "      <td>12000</td>\n",
       "      <td>3304</td>\n",
       "    </tr>\n",
       "  </tbody>\n",
       "</table>\n",
       "</div>"
      ],
      "text/plain": [
       "   scopus_id  asjc_code\n",
       "0      12000       1705\n",
       "1      12000       3304"
      ]
     },
     "execution_count": 16,
     "metadata": {},
     "output_type": "execute_result"
    }
   ],
   "source": [
    "title_codes_df.head(2)"
   ]
  },
  {
   "cell_type": "code",
   "execution_count": 17,
   "metadata": {
    "collapsed": true
   },
   "outputs": [],
   "source": [
    "# Extract title to subject area mapping\n",
    "subject_df = title_codes_df.copy()\n",
    "subject_df.asjc_code = 100 * (subject_df.asjc_code // 100)\n",
    "subject_df = subject_df.drop_duplicates()\n",
    "subject_df = subject_df.merge(code_df)\n",
    "subject_df.asjc_description = subject_df.asjc_description.map(lambda x: re.sub(r'\\(all\\)$', '', x))\n",
    "subject_df = subject_df.sort_values(['scopus_id', 'asjc_code'])"
   ]
  },
  {
   "cell_type": "code",
   "execution_count": 18,
   "metadata": {
    "collapsed": true
   },
   "outputs": [],
   "source": [
    "path = os.path.join('data', 'subject-areas.tsv')\n",
    "subject_df.to_csv(path, index=False, sep='\\t')"
   ]
  },
  {
   "cell_type": "code",
   "execution_count": 19,
   "metadata": {},
   "outputs": [
    {
     "data": {
      "text/html": [
       "<div>\n",
       "<table border=\"1\" class=\"dataframe\">\n",
       "  <thead>\n",
       "    <tr style=\"text-align: right;\">\n",
       "      <th></th>\n",
       "      <th>scopus_id</th>\n",
       "      <th>asjc_code</th>\n",
       "      <th>asjc_description</th>\n",
       "    </tr>\n",
       "  </thead>\n",
       "  <tbody>\n",
       "    <tr>\n",
       "      <th>0</th>\n",
       "      <td>12000</td>\n",
       "      <td>1700</td>\n",
       "      <td>Computer Science</td>\n",
       "    </tr>\n",
       "    <tr>\n",
       "      <th>13018</th>\n",
       "      <td>12000</td>\n",
       "      <td>3300</td>\n",
       "      <td>Social Sciences</td>\n",
       "    </tr>\n",
       "  </tbody>\n",
       "</table>\n",
       "</div>"
      ],
      "text/plain": [
       "       scopus_id  asjc_code  asjc_description\n",
       "0          12000       1700  Computer Science\n",
       "13018      12000       3300   Social Sciences"
      ]
     },
     "execution_count": 19,
     "metadata": {},
     "output_type": "execute_result"
    }
   ],
   "source": [
    "subject_df.head(2)"
   ]
  },
  {
   "cell_type": "markdown",
   "metadata": {},
   "source": [
    "## Title attributes"
   ]
  },
  {
   "cell_type": "code",
   "execution_count": 20,
   "metadata": {
    "collapsed": true
   },
   "outputs": [],
   "source": [
    "# Extract title attributes for non-conference-proceedings\n",
    "renamer = {\n",
    "    'Open Acces status, i.e., registered in DOAJ and/or ROAD. Status March 2016\\n': 'open_access',\n",
    "    'Active or Inactive': 'active',\n",
    "    'Source Type': 'source_type',\n",
    "    'Publisher imprints grouped to main Publisher': 'main_publisher',\n",
    "    \"Publisher's Country \": 'publisher_country',\n",
    "}\n",
    "attribute_df = source_df.copy()\n",
    "attribute_df = attribute_df.rename(columns=renamer)\n",
    "attribute_df = attribute_df[['scopus_id'] + list(renamer.values())]\n",
    "attribute_df.active = (attribute_df.active == 'Active').astype(int)\n",
    "attribute_df.open_access = (pandas.isnull(attribute_df.open_access)).astype(int)\n",
    "attribute_df = attribute_df.sort_values('scopus_id')\n",
    "# Enforce column order for diff viewing\n",
    "columns = ['scopus_id', 'active', 'open_access', 'main_publisher', 'source_type', 'publisher_country']\n",
    "attribute_df = attribute_df[columns]"
   ]
  },
  {
   "cell_type": "code",
   "execution_count": 21,
   "metadata": {
    "collapsed": true
   },
   "outputs": [],
   "source": [
    "path = os.path.join('data', 'title-attributes.tsv')\n",
    "attribute_df.to_csv(path, index=False, sep='\\t')"
   ]
  },
  {
   "cell_type": "code",
   "execution_count": 22,
   "metadata": {},
   "outputs": [
    {
     "data": {
      "text/html": [
       "<div>\n",
       "<table border=\"1\" class=\"dataframe\">\n",
       "  <thead>\n",
       "    <tr style=\"text-align: right;\">\n",
       "      <th></th>\n",
       "      <th>scopus_id</th>\n",
       "      <th>active</th>\n",
       "      <th>open_access</th>\n",
       "      <th>main_publisher</th>\n",
       "      <th>source_type</th>\n",
       "      <th>publisher_country</th>\n",
       "    </tr>\n",
       "  </thead>\n",
       "  <tbody>\n",
       "    <tr>\n",
       "      <th>21137</th>\n",
       "      <td>12000</td>\n",
       "      <td>0</td>\n",
       "      <td>1</td>\n",
       "      <td>Columbus State University</td>\n",
       "      <td>Journal</td>\n",
       "      <td>United States</td>\n",
       "    </tr>\n",
       "    <tr>\n",
       "      <th>21353</th>\n",
       "      <td>12001</td>\n",
       "      <td>1</td>\n",
       "      <td>1</td>\n",
       "      <td>Society for the Experimental Analysis of Behav...</td>\n",
       "      <td>Journal</td>\n",
       "      <td>United States</td>\n",
       "    </tr>\n",
       "  </tbody>\n",
       "</table>\n",
       "</div>"
      ],
      "text/plain": [
       "       scopus_id  active  open_access  \\\n",
       "21137      12000       0            1   \n",
       "21353      12001       1            1   \n",
       "\n",
       "                                          main_publisher source_type  \\\n",
       "21137                          Columbus State University     Journal   \n",
       "21353  Society for the Experimental Analysis of Behav...     Journal   \n",
       "\n",
       "      publisher_country  \n",
       "21137     United States  \n",
       "21353     United States  "
      ]
     },
     "execution_count": 22,
     "metadata": {},
     "output_type": "execute_result"
    }
   ],
   "source": [
    "attribute_df.head(2)"
   ]
  },
  {
   "cell_type": "code",
   "execution_count": 23,
   "metadata": {
    "collapsed": true
   },
   "outputs": [],
   "source": [
    "# Top level subject areas\n",
    "rows = []\n",
    "tl_cols = list(source_df.columns[source_df.columns.str.startswith('Top level:')])\n",
    "for i, series in source_df[['scopus_id'] + tl_cols].iterrows():\n",
    "    scopus_id = series.scopus_id\n",
    "    for value in series.ix[1:].dropna():\n",
    "        rows.append((scopus_id, value))\n",
    "rows.sort()\n",
    "top_df = pandas.DataFrame(rows, columns=['scopus_id', 'top_level_subject'])"
   ]
  },
  {
   "cell_type": "code",
   "execution_count": 24,
   "metadata": {
    "collapsed": true
   },
   "outputs": [],
   "source": [
    "path = os.path.join('data', 'title-top-levels.tsv')\n",
    "top_df.to_csv(path, index=False, sep='\\t')"
   ]
  },
  {
   "cell_type": "code",
   "execution_count": 25,
   "metadata": {},
   "outputs": [
    {
     "data": {
      "text/html": [
       "<div>\n",
       "<table border=\"1\" class=\"dataframe\">\n",
       "  <thead>\n",
       "    <tr style=\"text-align: right;\">\n",
       "      <th></th>\n",
       "      <th>scopus_id</th>\n",
       "      <th>top_level_subject</th>\n",
       "    </tr>\n",
       "  </thead>\n",
       "  <tbody>\n",
       "    <tr>\n",
       "      <th>0</th>\n",
       "      <td>12000</td>\n",
       "      <td>Physical Sciences</td>\n",
       "    </tr>\n",
       "    <tr>\n",
       "      <th>1</th>\n",
       "      <td>12000</td>\n",
       "      <td>Social Sciences</td>\n",
       "    </tr>\n",
       "  </tbody>\n",
       "</table>\n",
       "</div>"
      ],
      "text/plain": [
       "   scopus_id  top_level_subject\n",
       "0      12000  Physical Sciences\n",
       "1      12000    Social Sciences"
      ]
     },
     "execution_count": 25,
     "metadata": {},
     "output_type": "execute_result"
    }
   ],
   "source": [
    "top_df.head(2)"
   ]
  }
 ],
 "metadata": {
  "kernelspec": {
   "display_name": "Python [conda env:journalmetrics]",
   "language": "python",
   "name": "conda-env-journalmetrics-py"
  },
  "language_info": {
   "codemirror_mode": {
    "name": "ipython",
    "version": 3
   },
   "file_extension": ".py",
   "mimetype": "text/x-python",
   "name": "python",
   "nbconvert_exporter": "python",
   "pygments_lexer": "ipython3",
   "version": "3.6.0"
  }
 },
 "nbformat": 4,
 "nbformat_minor": 1
}
