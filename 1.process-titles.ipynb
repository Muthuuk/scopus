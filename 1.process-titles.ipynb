{
 "cells": [
  {
   "cell_type": "markdown",
   "metadata": {},
   "source": [
    "# Process Scopus title (e.g. journal) metadata"
   ]
  },
  {
   "cell_type": "code",
   "execution_count": 1,
   "metadata": {
    "collapsed": true
   },
   "outputs": [],
   "source": [
    "import pathlib\n",
    "import re\n",
    "\n",
    "import pandas\n",
    "import slugify\n",
    "\n",
    "from utilities import format_issn"
   ]
  },
  {
   "cell_type": "code",
   "execution_count": 2,
   "metadata": {
    "collapsed": true
   },
   "outputs": [],
   "source": [
    "# Load dataset\n",
    "path = pathlib.Path('download/Scopus_Source_List.xlsx')"
   ]
  },
  {
   "cell_type": "code",
   "execution_count": 3,
   "metadata": {},
   "outputs": [
    {
     "data": {
      "text/html": [
       "<div>\n",
       "<style scoped>\n",
       "    .dataframe tbody tr th:only-of-type {\n",
       "        vertical-align: middle;\n",
       "    }\n",
       "\n",
       "    .dataframe tbody tr th {\n",
       "        vertical-align: top;\n",
       "    }\n",
       "\n",
       "    .dataframe thead th {\n",
       "        text-align: right;\n",
       "    }\n",
       "</style>\n",
       "<table border=\"1\" class=\"dataframe\">\n",
       "  <thead>\n",
       "    <tr style=\"text-align: right;\">\n",
       "      <th></th>\n",
       "      <th>Sourcerecord id</th>\n",
       "      <th>Source Title (Medline-sourced journals are indicated in Green)\n",
       "Titles indicated in bold red do not meet the Scopus quality criteria anymore and therefore Scopus discontinued the forward capturing</th>\n",
       "      <th>Print-ISSN</th>\n",
       "      <th>E-ISSN</th>\n",
       "      <th>Active or Inactive</th>\n",
       "      <th>Coverage</th>\n",
       "      <th>Article language in source (three-letter ISO language codes)</th>\n",
       "      <th>2014 CiteScore</th>\n",
       "      <th>2014\n",
       "SJR</th>\n",
       "      <th>2014\n",
       "SNIP</th>\n",
       "      <th>...</th>\n",
       "      <th>2700\n",
       "Medicine</th>\n",
       "      <th>2800\n",
       "Neuroscience</th>\n",
       "      <th>2900\n",
       "Nursing</th>\n",
       "      <th>3000\n",
       "Pharmacology, Toxicology and Pharmaceutics</th>\n",
       "      <th>3100\n",
       "Physics and Astronomy</th>\n",
       "      <th>3200\n",
       "Psychology</th>\n",
       "      <th>3300\n",
       "Social Sciences</th>\n",
       "      <th>3400\n",
       "Veterinary</th>\n",
       "      <th>3500\n",
       "Dentistry</th>\n",
       "      <th>3600\n",
       "Health Professions</th>\n",
       "    </tr>\n",
       "  </thead>\n",
       "  <tbody>\n",
       "    <tr>\n",
       "      <th>0</th>\n",
       "      <td>18500162600</td>\n",
       "      <td>21st Century Music</td>\n",
       "      <td>15343219</td>\n",
       "      <td>NaN</td>\n",
       "      <td>Inactive</td>\n",
       "      <td>2002-2011</td>\n",
       "      <td>ENG</td>\n",
       "      <td>NaN</td>\n",
       "      <td>0.111</td>\n",
       "      <td>NaN</td>\n",
       "      <td>...</td>\n",
       "      <td>NaN</td>\n",
       "      <td>NaN</td>\n",
       "      <td>NaN</td>\n",
       "      <td>NaN</td>\n",
       "      <td>NaN</td>\n",
       "      <td>NaN</td>\n",
       "      <td>NaN</td>\n",
       "      <td>NaN</td>\n",
       "      <td>NaN</td>\n",
       "      <td>NaN</td>\n",
       "    </tr>\n",
       "    <tr>\n",
       "      <th>1</th>\n",
       "      <td>21100404576</td>\n",
       "      <td>2D Materials</td>\n",
       "      <td>NaN</td>\n",
       "      <td>20531583</td>\n",
       "      <td>Active</td>\n",
       "      <td>2014-ongoing</td>\n",
       "      <td>ENG</td>\n",
       "      <td>NaN</td>\n",
       "      <td>NaN</td>\n",
       "      <td>NaN</td>\n",
       "      <td>...</td>\n",
       "      <td>NaN</td>\n",
       "      <td>NaN</td>\n",
       "      <td>NaN</td>\n",
       "      <td>NaN</td>\n",
       "      <td>Physics and Astronomy</td>\n",
       "      <td>NaN</td>\n",
       "      <td>NaN</td>\n",
       "      <td>NaN</td>\n",
       "      <td>NaN</td>\n",
       "      <td>NaN</td>\n",
       "    </tr>\n",
       "  </tbody>\n",
       "</table>\n",
       "<p>2 rows × 63 columns</p>\n",
       "</div>"
      ],
      "text/plain": [
       "   Sourcerecord id   \\\n",
       "0       18500162600   \n",
       "1       21100404576   \n",
       "\n",
       "  Source Title (Medline-sourced journals are indicated in Green)\\nTitles indicated in bold red do not meet the Scopus quality criteria anymore and therefore Scopus discontinued the forward capturing  \\\n",
       "0                                 21st Century Music                                                                                                                                                     \n",
       "1                                       2D Materials                                                                                                                                                     \n",
       "\n",
       "  Print-ISSN    E-ISSN Active or Inactive      Coverage  \\\n",
       "0   15343219       NaN           Inactive     2002-2011   \n",
       "1        NaN  20531583             Active  2014-ongoing   \n",
       "\n",
       "  Article language in source (three-letter ISO language codes)  \\\n",
       "0                                                ENG             \n",
       "1                                                ENG             \n",
       "\n",
       "   2014 CiteScore  2014\\nSJR  2014\\nSNIP           ...             \\\n",
       "0             NaN      0.111         NaN           ...              \n",
       "1             NaN        NaN         NaN           ...              \n",
       "\n",
       "   2700\\nMedicine  2800\\nNeuroscience  2900\\nNursing  \\\n",
       "0             NaN                 NaN            NaN   \n",
       "1             NaN                 NaN            NaN   \n",
       "\n",
       "   3000\\nPharmacology, Toxicology and Pharmaceutics  \\\n",
       "0                                               NaN   \n",
       "1                                               NaN   \n",
       "\n",
       "   3100\\nPhysics and Astronomy  3200\\nPsychology 3300\\nSocial Sciences  \\\n",
       "0                          NaN               NaN                   NaN   \n",
       "1        Physics and Astronomy               NaN                   NaN   \n",
       "\n",
       "  3400\\nVeterinary 3500\\nDentistry 3600\\nHealth Professions  \n",
       "0              NaN             NaN                      NaN  \n",
       "1              NaN             NaN                      NaN  \n",
       "\n",
       "[2 rows x 63 columns]"
      ]
     },
     "execution_count": 3,
     "metadata": {},
     "output_type": "execute_result"
    }
   ],
   "source": [
    "source_df = pandas.read_excel(path, sheet_name='Scopus Sources October 2017')\n",
    "source_df.head(2)"
   ]
  },
  {
   "cell_type": "code",
   "execution_count": 4,
   "metadata": {},
   "outputs": [
    {
     "data": {
      "text/html": [
       "<div>\n",
       "<style scoped>\n",
       "    .dataframe tbody tr th:only-of-type {\n",
       "        vertical-align: middle;\n",
       "    }\n",
       "\n",
       "    .dataframe tbody tr th {\n",
       "        vertical-align: top;\n",
       "    }\n",
       "\n",
       "    .dataframe thead th {\n",
       "        text-align: right;\n",
       "    }\n",
       "</style>\n",
       "<table border=\"1\" class=\"dataframe\">\n",
       "  <thead>\n",
       "    <tr style=\"text-align: right;\">\n",
       "      <th></th>\n",
       "      <th>Sourcerecord id</th>\n",
       "      <th>Source title</th>\n",
       "      <th>ISSN</th>\n",
       "      <th>Coverage</th>\n",
       "      <th>2014\n",
       "CiteScore</th>\n",
       "      <th>2014\n",
       "SJR</th>\n",
       "      <th>2014\n",
       "SNIP</th>\n",
       "      <th>2015\n",
       "Citescore</th>\n",
       "      <th>2015\n",
       "SJR</th>\n",
       "      <th>2015\n",
       "SNIP</th>\n",
       "      <th>2016 CiteScore</th>\n",
       "      <th>2016\n",
       "SJR</th>\n",
       "      <th>2016\n",
       "SNIP</th>\n",
       "      <th>ASJC code</th>\n",
       "    </tr>\n",
       "  </thead>\n",
       "  <tbody>\n",
       "    <tr>\n",
       "      <th>0</th>\n",
       "      <td>21100496635</td>\n",
       "      <td>100th Annual Conference and Exhibition of the ...</td>\n",
       "      <td>NaN</td>\n",
       "      <td>2007</td>\n",
       "      <td>NaN</td>\n",
       "      <td>NaN</td>\n",
       "      <td>NaN</td>\n",
       "      <td>NaN</td>\n",
       "      <td>NaN</td>\n",
       "      <td>NaN</td>\n",
       "      <td>NaN</td>\n",
       "      <td>NaN</td>\n",
       "      <td>NaN</td>\n",
       "      <td>2105; 2102</td>\n",
       "    </tr>\n",
       "    <tr>\n",
       "      <th>1</th>\n",
       "      <td>21100496732</td>\n",
       "      <td>100th Annual Conference and Exhibition of the ...</td>\n",
       "      <td>NaN</td>\n",
       "      <td>2007</td>\n",
       "      <td>NaN</td>\n",
       "      <td>NaN</td>\n",
       "      <td>NaN</td>\n",
       "      <td>NaN</td>\n",
       "      <td>NaN</td>\n",
       "      <td>NaN</td>\n",
       "      <td>NaN</td>\n",
       "      <td>NaN</td>\n",
       "      <td>NaN</td>\n",
       "      <td>1709; 1705</td>\n",
       "    </tr>\n",
       "  </tbody>\n",
       "</table>\n",
       "</div>"
      ],
      "text/plain": [
       "   Sourcerecord id                                       Source title  ISSN  \\\n",
       "0       21100496635  100th Annual Conference and Exhibition of the ...  NaN   \n",
       "1       21100496732  100th Annual Conference and Exhibition of the ...  NaN   \n",
       "\n",
       "  Coverage   2014\\nCiteScore  2014\\nSJR  2014\\nSNIP  2015\\nCitescore  \\\n",
       "0      2007              NaN        NaN         NaN              NaN   \n",
       "1      2007              NaN        NaN         NaN              NaN   \n",
       "\n",
       "   2015\\nSJR  2015\\nSNIP 2016 CiteScore  2016\\nSJR  2016\\nSNIP   ASJC code  \n",
       "0        NaN         NaN            NaN        NaN         NaN  2105; 2102  \n",
       "1        NaN         NaN            NaN        NaN         NaN  1709; 1705  "
      ]
     },
     "execution_count": 4,
     "metadata": {},
     "output_type": "execute_result"
    }
   ],
   "source": [
    "conf_96_df = pandas.read_excel(path, sheet_name='Conf. Proceedings post-1995')\n",
    "conf_96_df.head(2)"
   ]
  },
  {
   "cell_type": "code",
   "execution_count": 5,
   "metadata": {},
   "outputs": [
    {
     "data": {
      "text/html": [
       "<div>\n",
       "<style scoped>\n",
       "    .dataframe tbody tr th:only-of-type {\n",
       "        vertical-align: middle;\n",
       "    }\n",
       "\n",
       "    .dataframe tbody tr th {\n",
       "        vertical-align: top;\n",
       "    }\n",
       "\n",
       "    .dataframe thead th {\n",
       "        text-align: right;\n",
       "    }\n",
       "</style>\n",
       "<table border=\"1\" class=\"dataframe\">\n",
       "  <thead>\n",
       "    <tr style=\"text-align: right;\">\n",
       "      <th></th>\n",
       "      <th>Sourcerecord id</th>\n",
       "      <th>Source title</th>\n",
       "      <th>Coverage</th>\n",
       "      <th>ISSN</th>\n",
       "      <th>ASJC code</th>\n",
       "    </tr>\n",
       "  </thead>\n",
       "  <tbody>\n",
       "    <tr>\n",
       "      <th>0</th>\n",
       "      <td>130776</td>\n",
       "      <td>10th ASM Conf on Adv in the Prod of Tubes, Bar...</td>\n",
       "      <td>1987</td>\n",
       "      <td>NaN</td>\n",
       "      <td>2200;</td>\n",
       "    </tr>\n",
       "    <tr>\n",
       "      <th>1</th>\n",
       "      <td>130669</td>\n",
       "      <td>10th ASM Conference on Advances in the Product...</td>\n",
       "      <td>1987</td>\n",
       "      <td>NaN</td>\n",
       "      <td>2200;</td>\n",
       "    </tr>\n",
       "  </tbody>\n",
       "</table>\n",
       "</div>"
      ],
      "text/plain": [
       "   Sourcerecord id                                       Source title   \\\n",
       "0            130776  10th ASM Conf on Adv in the Prod of Tubes, Bar...   \n",
       "1            130669  10th ASM Conference on Advances in the Product...   \n",
       "\n",
       "  Coverage  ISSN ASJC code  \n",
       "0      1987  NaN    2200;   \n",
       "1      1987  NaN    2200;   "
      ]
     },
     "execution_count": 5,
     "metadata": {},
     "output_type": "execute_result"
    }
   ],
   "source": [
    "conf_95_df = pandas.read_excel(path, sheet_name='Conf. Proceedings pre-1996')\n",
    "conf_95_df.head(2)"
   ]
  },
  {
   "cell_type": "code",
   "execution_count": 6,
   "metadata": {},
   "outputs": [
    {
     "data": {
      "text/html": [
       "<div>\n",
       "<style scoped>\n",
       "    .dataframe tbody tr th:only-of-type {\n",
       "        vertical-align: middle;\n",
       "    }\n",
       "\n",
       "    .dataframe tbody tr th {\n",
       "        vertical-align: top;\n",
       "    }\n",
       "\n",
       "    .dataframe thead th {\n",
       "        text-align: right;\n",
       "    }\n",
       "</style>\n",
       "<table border=\"1\" class=\"dataframe\">\n",
       "  <thead>\n",
       "    <tr style=\"text-align: right;\">\n",
       "      <th></th>\n",
       "      <th>Code</th>\n",
       "      <th>Description</th>\n",
       "    </tr>\n",
       "  </thead>\n",
       "  <tbody>\n",
       "    <tr>\n",
       "      <th>1</th>\n",
       "      <td>1000</td>\n",
       "      <td>Multidisciplinary</td>\n",
       "    </tr>\n",
       "    <tr>\n",
       "      <th>3</th>\n",
       "      <td>1100</td>\n",
       "      <td>General Agricultural and Biological Sciences</td>\n",
       "    </tr>\n",
       "  </tbody>\n",
       "</table>\n",
       "</div>"
      ],
      "text/plain": [
       "   Code                                   Description\n",
       "1  1000                             Multidisciplinary\n",
       "3  1100  General Agricultural and Biological Sciences"
      ]
     },
     "execution_count": 6,
     "metadata": {},
     "output_type": "execute_result"
    }
   ],
   "source": [
    "code_df = pandas.read_excel(path, sheet_name='ASJC classification codes', usecols=1).dropna()\n",
    "code_df.Code = code_df.Code.astype(int)\n",
    "code_df.head(2)"
   ]
  },
  {
   "cell_type": "code",
   "execution_count": 7,
   "metadata": {
    "collapsed": true
   },
   "outputs": [],
   "source": [
    "# Rename columns on dataframes\n",
    "renamer = {\n",
    "    'Sourcerecord id ': 'scopus_id',\n",
    "    'All Science Classification Codes (ASJC)': 'asjc_codes',\n",
    "    'ASJC code': 'asjc_codes',\n",
    "    'Print-ISSN': 'issn_print',\n",
    "    'E-ISSN': 'issn_electronic',\n",
    "    'ISSN': 'issn_unspecified',\n",
    "}\n",
    "\n",
    "for df in source_df, conf_96_df, conf_95_df:\n",
    "    df.rename(columns=renamer, inplace=True)"
   ]
  },
  {
   "cell_type": "markdown",
   "metadata": {},
   "source": [
    "## Titles"
   ]
  },
  {
   "cell_type": "code",
   "execution_count": 8,
   "metadata": {
    "collapsed": true
   },
   "outputs": [],
   "source": [
    "# Extract title names\n",
    "rows = list()\n",
    "for df in source_df, conf_96_df, conf_95_df:\n",
    "    rows.extend(zip(df.scopus_id, df.iloc[:, 1]))\n",
    "\n",
    "rows.sort()\n",
    "title_df = pandas.DataFrame(rows, columns=['scopus_id', 'title_name'])\n",
    "title_df = title_df.drop_duplicates('scopus_id')"
   ]
  },
  {
   "cell_type": "code",
   "execution_count": 9,
   "metadata": {},
   "outputs": [
    {
     "data": {
      "text/html": [
       "<div>\n",
       "<style scoped>\n",
       "    .dataframe tbody tr th:only-of-type {\n",
       "        vertical-align: middle;\n",
       "    }\n",
       "\n",
       "    .dataframe tbody tr th {\n",
       "        vertical-align: top;\n",
       "    }\n",
       "\n",
       "    .dataframe thead th {\n",
       "        text-align: right;\n",
       "    }\n",
       "</style>\n",
       "<table border=\"1\" class=\"dataframe\">\n",
       "  <thead>\n",
       "    <tr style=\"text-align: right;\">\n",
       "      <th></th>\n",
       "      <th>scopus_id</th>\n",
       "      <th>title_name</th>\n",
       "    </tr>\n",
       "  </thead>\n",
       "  <tbody>\n",
       "    <tr>\n",
       "      <th>0</th>\n",
       "      <td>12000</td>\n",
       "      <td>Journal of Technology in Counseling</td>\n",
       "    </tr>\n",
       "    <tr>\n",
       "      <th>1</th>\n",
       "      <td>12001</td>\n",
       "      <td>Journal of the Experimental Analysis of Behavior</td>\n",
       "    </tr>\n",
       "  </tbody>\n",
       "</table>\n",
       "</div>"
      ],
      "text/plain": [
       "   scopus_id                                        title_name\n",
       "0      12000               Journal of Technology in Counseling\n",
       "1      12001  Journal of the Experimental Analysis of Behavior"
      ]
     },
     "execution_count": 9,
     "metadata": {},
     "output_type": "execute_result"
    }
   ],
   "source": [
    "title_df.head(2)"
   ]
  },
  {
   "cell_type": "code",
   "execution_count": 10,
   "metadata": {},
   "outputs": [
    {
     "data": {
      "text/plain": [
       "72502"
      ]
     },
     "execution_count": 10,
     "metadata": {},
     "output_type": "execute_result"
    }
   ],
   "source": [
    "len(title_df)"
   ]
  },
  {
   "cell_type": "code",
   "execution_count": 11,
   "metadata": {
    "collapsed": true
   },
   "outputs": [],
   "source": [
    "path = pathlib.Path('data/titles.tsv')\n",
    "title_df.to_csv(path, index=False, sep='\\t')"
   ]
  },
  {
   "cell_type": "markdown",
   "metadata": {},
   "source": [
    "## ISSN"
   ]
  },
  {
   "cell_type": "code",
   "execution_count": 12,
   "metadata": {
    "collapsed": true
   },
   "outputs": [],
   "source": [
    "value_vars = {'issn_print', 'issn_electronic', 'issn_unspecified'}\n",
    "issn_dfs = list()\n",
    "for df in source_df, conf_96_df, conf_95_df:\n",
    "    df_value_vars = value_vars.intersection(df.columns)\n",
    "    df = pandas.melt(df, id_vars='scopus_id', value_vars=df_value_vars, var_name='issn_type', value_name='issn')\n",
    "    df.dropna(inplace=True)\n",
    "    df.issn = df.issn.map(format_issn)\n",
    "    df.issn_type = df.issn_type.map(lambda x: x.split('_')[1])\n",
    "    issn_dfs.append(df.dropna())\n",
    "issn_df = (\n",
    "    pandas.concat(issn_dfs)\n",
    "    .dropna()\n",
    "    .sort_values(['scopus_id', 'issn_type', 'issn'])\n",
    "    .drop_duplicates(['scopus_id', 'issn'])\n",
    ")"
   ]
  },
  {
   "cell_type": "code",
   "execution_count": 13,
   "metadata": {},
   "outputs": [
    {
     "data": {
      "text/plain": [
       "47348"
      ]
     },
     "execution_count": 13,
     "metadata": {},
     "output_type": "execute_result"
    }
   ],
   "source": [
    "len(issn_df)"
   ]
  },
  {
   "cell_type": "code",
   "execution_count": 14,
   "metadata": {
    "scrolled": true
   },
   "outputs": [
    {
     "data": {
      "text/html": [
       "<div>\n",
       "<style scoped>\n",
       "    .dataframe tbody tr th:only-of-type {\n",
       "        vertical-align: middle;\n",
       "    }\n",
       "\n",
       "    .dataframe tbody tr th {\n",
       "        vertical-align: top;\n",
       "    }\n",
       "\n",
       "    .dataframe thead th {\n",
       "        text-align: right;\n",
       "    }\n",
       "</style>\n",
       "<table border=\"1\" class=\"dataframe\">\n",
       "  <thead>\n",
       "    <tr style=\"text-align: right;\">\n",
       "      <th></th>\n",
       "      <th>scopus_id</th>\n",
       "      <th>issn_type</th>\n",
       "      <th>issn</th>\n",
       "    </tr>\n",
       "  </thead>\n",
       "  <tbody>\n",
       "    <tr>\n",
       "      <th>58544</th>\n",
       "      <td>12000</td>\n",
       "      <td>print</td>\n",
       "      <td>1527-6228</td>\n",
       "    </tr>\n",
       "    <tr>\n",
       "      <th>58763</th>\n",
       "      <td>12001</td>\n",
       "      <td>print</td>\n",
       "      <td>0022-5002</td>\n",
       "    </tr>\n",
       "    <tr>\n",
       "      <th>21966</th>\n",
       "      <td>12002</td>\n",
       "      <td>electronic</td>\n",
       "      <td>1520-6696</td>\n",
       "    </tr>\n",
       "  </tbody>\n",
       "</table>\n",
       "</div>"
      ],
      "text/plain": [
       "       scopus_id   issn_type       issn\n",
       "58544      12000       print  1527-6228\n",
       "58763      12001       print  0022-5002\n",
       "21966      12002  electronic  1520-6696"
      ]
     },
     "execution_count": 14,
     "metadata": {},
     "output_type": "execute_result"
    }
   ],
   "source": [
    "issn_df.head(3)"
   ]
  },
  {
   "cell_type": "code",
   "execution_count": 15,
   "metadata": {
    "collapsed": true
   },
   "outputs": [],
   "source": [
    "path = pathlib.Path('data/issn.tsv')\n",
    "issn_df.to_csv(path, sep='\\t', index=False)"
   ]
  },
  {
   "cell_type": "markdown",
   "metadata": {},
   "source": [
    "## ASJC Codes\n",
    "\n",
    "All Science Journal Classification (ASJC) Codes"
   ]
  },
  {
   "cell_type": "code",
   "execution_count": 16,
   "metadata": {},
   "outputs": [
    {
     "data": {
      "text/html": [
       "<div>\n",
       "<style scoped>\n",
       "    .dataframe tbody tr th:only-of-type {\n",
       "        vertical-align: middle;\n",
       "    }\n",
       "\n",
       "    .dataframe tbody tr th {\n",
       "        vertical-align: top;\n",
       "    }\n",
       "\n",
       "    .dataframe thead th {\n",
       "        text-align: right;\n",
       "    }\n",
       "</style>\n",
       "<table border=\"1\" class=\"dataframe\">\n",
       "  <thead>\n",
       "    <tr style=\"text-align: right;\">\n",
       "      <th></th>\n",
       "      <th>asjc_code</th>\n",
       "      <th>asjc_description</th>\n",
       "    </tr>\n",
       "  </thead>\n",
       "  <tbody>\n",
       "    <tr>\n",
       "      <th>1</th>\n",
       "      <td>1000</td>\n",
       "      <td>Multidisciplinary</td>\n",
       "    </tr>\n",
       "    <tr>\n",
       "      <th>3</th>\n",
       "      <td>1100</td>\n",
       "      <td>General Agricultural and Biological Sciences</td>\n",
       "    </tr>\n",
       "  </tbody>\n",
       "</table>\n",
       "</div>"
      ],
      "text/plain": [
       "   asjc_code                              asjc_description\n",
       "1       1000                             Multidisciplinary\n",
       "3       1100  General Agricultural and Biological Sciences"
      ]
     },
     "execution_count": 16,
     "metadata": {},
     "output_type": "execute_result"
    }
   ],
   "source": [
    "# Extract ASJC code descriptions\n",
    "code_df = code_df.rename(columns={'Code': 'asjc_code', 'Description': 'asjc_description'})\n",
    "code_df = code_df[['asjc_code', 'asjc_description']]\n",
    "code_df.head(2)"
   ]
  },
  {
   "cell_type": "code",
   "execution_count": 17,
   "metadata": {
    "collapsed": true
   },
   "outputs": [],
   "source": [
    "path = pathlib.Path('data/asjc-codes.tsv')\n",
    "code_df.to_csv(path, index=False, sep='\\t')"
   ]
  },
  {
   "cell_type": "code",
   "execution_count": 18,
   "metadata": {},
   "outputs": [
    {
     "data": {
      "text/html": [
       "<div>\n",
       "<style scoped>\n",
       "    .dataframe tbody tr th:only-of-type {\n",
       "        vertical-align: middle;\n",
       "    }\n",
       "\n",
       "    .dataframe tbody tr th {\n",
       "        vertical-align: top;\n",
       "    }\n",
       "\n",
       "    .dataframe thead th {\n",
       "        text-align: right;\n",
       "    }\n",
       "</style>\n",
       "<table border=\"1\" class=\"dataframe\">\n",
       "  <thead>\n",
       "    <tr style=\"text-align: right;\">\n",
       "      <th></th>\n",
       "      <th>scopus_id</th>\n",
       "      <th>asjc_code</th>\n",
       "    </tr>\n",
       "  </thead>\n",
       "  <tbody>\n",
       "    <tr>\n",
       "      <th>0</th>\n",
       "      <td>12000</td>\n",
       "      <td>1705</td>\n",
       "    </tr>\n",
       "    <tr>\n",
       "      <th>1</th>\n",
       "      <td>12000</td>\n",
       "      <td>3304</td>\n",
       "    </tr>\n",
       "  </tbody>\n",
       "</table>\n",
       "</div>"
      ],
      "text/plain": [
       "   scopus_id  asjc_code\n",
       "0      12000       1705\n",
       "1      12000       3304"
      ]
     },
     "execution_count": 18,
     "metadata": {},
     "output_type": "execute_result"
    }
   ],
   "source": [
    "# Extract title to code mapping\n",
    "rows = list()\n",
    "for df in source_df, conf_96_df, conf_95_df:\n",
    "    for scopus_id, codes in zip(df.scopus_id, df.asjc_codes):\n",
    "        for code in re.split(r'[,;] *', str(codes)):\n",
    "            code = code.strip()\n",
    "            try:\n",
    "                code = int(code)\n",
    "            except ValueError:\n",
    "                continue\n",
    "            rows.append((scopus_id, code))\n",
    "\n",
    "rows.sort()\n",
    "title_codes_df = pandas.DataFrame(rows, columns=['scopus_id', 'asjc_code'])\n",
    "title_codes_df = title_codes_df.drop_duplicates()\n",
    "title_codes_df.head(2)"
   ]
  },
  {
   "cell_type": "code",
   "execution_count": 19,
   "metadata": {
    "collapsed": true
   },
   "outputs": [],
   "source": [
    "path = pathlib.Path('data/titles-asjc-codes.tsv')\n",
    "title_codes_df.to_csv(path, index=False, sep='\\t')"
   ]
  },
  {
   "cell_type": "code",
   "execution_count": 20,
   "metadata": {},
   "outputs": [
    {
     "data": {
      "text/html": [
       "<div>\n",
       "<style scoped>\n",
       "    .dataframe tbody tr th:only-of-type {\n",
       "        vertical-align: middle;\n",
       "    }\n",
       "\n",
       "    .dataframe tbody tr th {\n",
       "        vertical-align: top;\n",
       "    }\n",
       "\n",
       "    .dataframe thead th {\n",
       "        text-align: right;\n",
       "    }\n",
       "</style>\n",
       "<table border=\"1\" class=\"dataframe\">\n",
       "  <thead>\n",
       "    <tr style=\"text-align: right;\">\n",
       "      <th></th>\n",
       "      <th>scopus_id</th>\n",
       "      <th>asjc_code</th>\n",
       "      <th>asjc_description</th>\n",
       "    </tr>\n",
       "  </thead>\n",
       "  <tbody>\n",
       "    <tr>\n",
       "      <th>0</th>\n",
       "      <td>12000</td>\n",
       "      <td>1700</td>\n",
       "      <td>Computer Science</td>\n",
       "    </tr>\n",
       "    <tr>\n",
       "      <th>18380</th>\n",
       "      <td>12000</td>\n",
       "      <td>3300</td>\n",
       "      <td>Social Sciences</td>\n",
       "    </tr>\n",
       "  </tbody>\n",
       "</table>\n",
       "</div>"
      ],
      "text/plain": [
       "       scopus_id  asjc_code  asjc_description\n",
       "0          12000       1700  Computer Science\n",
       "18380      12000       3300   Social Sciences"
      ]
     },
     "execution_count": 20,
     "metadata": {},
     "output_type": "execute_result"
    }
   ],
   "source": [
    "# Extract title to subject area mapping\n",
    "subject_df = title_codes_df.copy()\n",
    "subject_df.asjc_code = 100 * (subject_df.asjc_code // 100)\n",
    "subject_df = subject_df.drop_duplicates()\n",
    "subject_df = subject_df.merge(code_df)\n",
    "subject_df.asjc_description = subject_df.asjc_description.map(lambda x: re.sub(r'^General ', '', x))\n",
    "subject_df = subject_df.sort_values(['scopus_id', 'asjc_code'])\n",
    "subject_df.head(2)"
   ]
  },
  {
   "cell_type": "code",
   "execution_count": 21,
   "metadata": {
    "collapsed": true
   },
   "outputs": [],
   "source": [
    "path = pathlib.Path('data/subject-areas.tsv')\n",
    "subject_df.to_csv(path, index=False, sep='\\t')"
   ]
  },
  {
   "cell_type": "markdown",
   "metadata": {},
   "source": [
    "## Title attributes"
   ]
  },
  {
   "cell_type": "code",
   "execution_count": 22,
   "metadata": {},
   "outputs": [
    {
     "data": {
      "text/html": [
       "<div>\n",
       "<style scoped>\n",
       "    .dataframe tbody tr th:only-of-type {\n",
       "        vertical-align: middle;\n",
       "    }\n",
       "\n",
       "    .dataframe tbody tr th {\n",
       "        vertical-align: top;\n",
       "    }\n",
       "\n",
       "    .dataframe thead th {\n",
       "        text-align: right;\n",
       "    }\n",
       "</style>\n",
       "<table border=\"1\" class=\"dataframe\">\n",
       "  <thead>\n",
       "    <tr style=\"text-align: right;\">\n",
       "      <th></th>\n",
       "      <th>scopus_id</th>\n",
       "      <th>active</th>\n",
       "      <th>open_access</th>\n",
       "      <th>main_publisher</th>\n",
       "      <th>source_type</th>\n",
       "      <th>publisher_country</th>\n",
       "    </tr>\n",
       "  </thead>\n",
       "  <tbody>\n",
       "    <tr>\n",
       "      <th>21712</th>\n",
       "      <td>12000</td>\n",
       "      <td>0</td>\n",
       "      <td>0</td>\n",
       "      <td>Columbus State University</td>\n",
       "      <td>Journal</td>\n",
       "      <td>United States</td>\n",
       "    </tr>\n",
       "    <tr>\n",
       "      <th>21931</th>\n",
       "      <td>12001</td>\n",
       "      <td>1</td>\n",
       "      <td>0</td>\n",
       "      <td>Wiley-Blackwell</td>\n",
       "      <td>Journal</td>\n",
       "      <td>United States</td>\n",
       "    </tr>\n",
       "  </tbody>\n",
       "</table>\n",
       "</div>"
      ],
      "text/plain": [
       "       scopus_id  active  open_access             main_publisher source_type  \\\n",
       "21712      12000       0            0  Columbus State University     Journal   \n",
       "21931      12001       1            0            Wiley-Blackwell     Journal   \n",
       "\n",
       "      publisher_country  \n",
       "21712     United States  \n",
       "21931     United States  "
      ]
     },
     "execution_count": 22,
     "metadata": {},
     "output_type": "execute_result"
    }
   ],
   "source": [
    "# Extract title attributes for non-conference-proceedings\n",
    "renamer = {\n",
    "    'Open Acces status, i.e., registered in DOAJ and/or ROAD. Status April 2017\\n': 'open_access',\n",
    "    'Active or Inactive': 'active',\n",
    "    'Source Type': 'source_type',\n",
    "    'Publisher imprints grouped to main Publisher': 'main_publisher',\n",
    "    \"Publisher's Country \": 'publisher_country',\n",
    "}\n",
    "attribute_df = source_df.copy()\n",
    "attribute_df = attribute_df.rename(columns=renamer)\n",
    "attribute_df = attribute_df[['scopus_id'] + list(renamer.values())]\n",
    "attribute_df.active = (attribute_df.active == 'Active').astype(int)\n",
    "attribute_df.open_access = attribute_df.open_access.notnull().astype(int)\n",
    "attribute_df = attribute_df.sort_values('scopus_id')\n",
    "# Enforce column order for diff viewing\n",
    "columns = ['scopus_id', 'active', 'open_access', 'main_publisher', 'source_type', 'publisher_country']\n",
    "attribute_df = attribute_df[columns]\n",
    "attribute_df = attribute_df.drop_duplicates('scopus_id')\n",
    "attribute_df.head(2)"
   ]
  },
  {
   "cell_type": "markdown",
   "metadata": {},
   "source": [
    "### Fix publishers"
   ]
  },
  {
   "cell_type": "code",
   "execution_count": 23,
   "metadata": {},
   "outputs": [
    {
     "name": "stdout",
     "output_type": "stream",
     "text": [
      "Publishers before filtering: 10,890\n",
      "Publishers after whitespace stripping: 10,886\n",
      "Publishers after renaming: 10,642\n"
     ]
    }
   ],
   "source": [
    "print(f'Publishers before filtering: {attribute_df.main_publisher.nunique():,}')\n",
    "\n",
    "# Strip whitespace sourrounding publisher names\n",
    "attribute_df.main_publisher = attribute_df.main_publisher.str.strip()\n",
    "print(f'Publishers after whitespace stripping: {attribute_df.main_publisher.nunique():,}')\n",
    "\n",
    "# Apply manual publisher name patches\n",
    "path = pathlib.Path('data/publisher-name-patches.tsv')\n",
    "patch_df = pandas.read_table(path)\n",
    "publisher_renamer = dict(zip(patch_df.scopus_main_publisher, patch_df.publisher_name))\n",
    "attribute_df.main_publisher.replace(publisher_renamer, inplace=True)\n",
    "print(f'Publishers after renaming: {attribute_df.main_publisher.nunique():,}')"
   ]
  },
  {
   "cell_type": "code",
   "execution_count": 24,
   "metadata": {},
   "outputs": [
    {
     "data": {
      "text/html": [
       "<div>\n",
       "<style scoped>\n",
       "    .dataframe tbody tr th:only-of-type {\n",
       "        vertical-align: middle;\n",
       "    }\n",
       "\n",
       "    .dataframe tbody tr th {\n",
       "        vertical-align: top;\n",
       "    }\n",
       "\n",
       "    .dataframe thead th {\n",
       "        text-align: right;\n",
       "    }\n",
       "</style>\n",
       "<table border=\"1\" class=\"dataframe\">\n",
       "  <thead>\n",
       "    <tr style=\"text-align: right;\">\n",
       "      <th></th>\n",
       "      <th>main_publisher_slug</th>\n",
       "      <th>main_publisher</th>\n",
       "      <th>n_journals</th>\n",
       "      <th>name_variants</th>\n",
       "    </tr>\n",
       "  </thead>\n",
       "  <tbody>\n",
       "    <tr>\n",
       "      <th>0</th>\n",
       "      <td>1105-media-inc</td>\n",
       "      <td>1105 Media Inc.</td>\n",
       "      <td>1</td>\n",
       "      <td>1</td>\n",
       "    </tr>\n",
       "    <tr>\n",
       "      <th>1</th>\n",
       "      <td>3g-publishing</td>\n",
       "      <td>3G Publishing</td>\n",
       "      <td>1</td>\n",
       "      <td>1</td>\n",
       "    </tr>\n",
       "  </tbody>\n",
       "</table>\n",
       "</div>"
      ],
      "text/plain": [
       "  main_publisher_slug   main_publisher  n_journals  name_variants\n",
       "0      1105-media-inc  1105 Media Inc.           1              1\n",
       "1       3g-publishing    3G Publishing           1              1"
      ]
     },
     "execution_count": 24,
     "metadata": {},
     "output_type": "execute_result"
    }
   ],
   "source": [
    "# Create a publsher dataframe\n",
    "publisher_df = (\n",
    "    attribute_df\n",
    "    .groupby('main_publisher')\n",
    "    .apply(len)\n",
    "    .rename('n_journals')\n",
    "    .reset_index()\n",
    ")\n",
    "slugger = slugify.Slugify(to_lower=True)\n",
    "publisher_df['main_publisher_slug'] = publisher_df.main_publisher.map(slugger)\n",
    "\n",
    "def summarize(df):\n",
    "    \"\"\"\n",
    "    Condense multiple publishers with the same slug\n",
    "    \"\"\"\n",
    "    # Select name variant used for the most number of titles\n",
    "    df = df.sort_values(['n_journals', 'main_publisher'])\n",
    "    return {\n",
    "        'n_journals': sum(df.n_journals),\n",
    "        'main_publisher': df.main_publisher.iloc[0],\n",
    "        'name_variants': len(df),\n",
    "    }\n",
    "\n",
    "results = (\n",
    "    publisher_df\n",
    "    .groupby('main_publisher_slug')\n",
    "    .apply(summarize)\n",
    ")\n",
    "publisher_df = pandas.DataFrame.from_records(results, index=results.index).reset_index()\n",
    "publisher_df.head(2)"
   ]
  },
  {
   "cell_type": "code",
   "execution_count": 25,
   "metadata": {},
   "outputs": [
    {
     "data": {
      "text/plain": [
       "1    10543\n",
       "2       48\n",
       "3        1\n",
       "Name: name_variants, dtype: int64"
      ]
     },
     "execution_count": 25,
     "metadata": {},
     "output_type": "execute_result"
    }
   ],
   "source": [
    "# How many publishers had name variants (identified using slug reduction)\n",
    "publisher_df.name_variants.value_counts()"
   ]
  },
  {
   "cell_type": "code",
   "execution_count": 26,
   "metadata": {},
   "outputs": [
    {
     "name": "stdout",
     "output_type": "stream",
     "text": [
      "Publishers after slug reductions: 10,592\n"
     ]
    }
   ],
   "source": [
    "# Standardize name variants using slug reductionism\n",
    "slug_to_publisher = dict(zip(publisher_df.main_publisher_slug, publisher_df.main_publisher))\n",
    "attribute_df.main_publisher = attribute_df.main_publisher.map(slugger, na_action='ignore').map(slug_to_publisher)\n",
    "print(f'Publishers after slug reductions: {attribute_df.main_publisher.nunique():,}')"
   ]
  },
  {
   "cell_type": "code",
   "execution_count": 27,
   "metadata": {
    "collapsed": true
   },
   "outputs": [],
   "source": [
    "path = pathlib.Path('data/title-attributes.tsv')\n",
    "attribute_df.to_csv(path, index=False, sep='\\t')\n",
    "\n",
    "path = pathlib.Path('data/publishers.tsv')\n",
    "publisher_df.to_csv(path, index=False, sep='\\t')"
   ]
  },
  {
   "cell_type": "code",
   "execution_count": 28,
   "metadata": {},
   "outputs": [
    {
     "data": {
      "text/html": [
       "<div>\n",
       "<style scoped>\n",
       "    .dataframe tbody tr th:only-of-type {\n",
       "        vertical-align: middle;\n",
       "    }\n",
       "\n",
       "    .dataframe tbody tr th {\n",
       "        vertical-align: top;\n",
       "    }\n",
       "\n",
       "    .dataframe thead th {\n",
       "        text-align: right;\n",
       "    }\n",
       "</style>\n",
       "<table border=\"1\" class=\"dataframe\">\n",
       "  <thead>\n",
       "    <tr style=\"text-align: right;\">\n",
       "      <th></th>\n",
       "      <th>scopus_id</th>\n",
       "      <th>top_level_subject</th>\n",
       "    </tr>\n",
       "  </thead>\n",
       "  <tbody>\n",
       "    <tr>\n",
       "      <th>0</th>\n",
       "      <td>12000</td>\n",
       "      <td>Physical Sciences</td>\n",
       "    </tr>\n",
       "    <tr>\n",
       "      <th>1</th>\n",
       "      <td>12000</td>\n",
       "      <td>Social Sciences</td>\n",
       "    </tr>\n",
       "  </tbody>\n",
       "</table>\n",
       "</div>"
      ],
      "text/plain": [
       "   scopus_id  top_level_subject\n",
       "0      12000  Physical Sciences\n",
       "1      12000    Social Sciences"
      ]
     },
     "execution_count": 28,
     "metadata": {},
     "output_type": "execute_result"
    }
   ],
   "source": [
    "# Top level subject areas\n",
    "rows = []\n",
    "tl_cols = list(source_df.columns[source_df.columns.str.startswith('Top level:')])\n",
    "for i, series in source_df[['scopus_id'] + tl_cols].iterrows():\n",
    "    scopus_id = series.scopus_id\n",
    "    for value in series.iloc[1:].dropna():\n",
    "        rows.append((scopus_id, value))\n",
    "rows.sort()\n",
    "top_df = pandas.DataFrame(rows, columns=['scopus_id', 'top_level_subject'])\n",
    "top_df.head(2)"
   ]
  },
  {
   "cell_type": "code",
   "execution_count": 29,
   "metadata": {
    "collapsed": true
   },
   "outputs": [],
   "source": [
    "path = pathlib.Path('data/title-top-levels.tsv')\n",
    "top_df.to_csv(path, index=False, sep='\\t')"
   ]
  }
 ],
 "metadata": {
  "anaconda-cloud": {},
  "kernelspec": {
   "display_name": "Python [conda env:scopus]",
   "language": "python",
   "name": "conda-env-scopus-py"
  },
  "language_info": {
   "codemirror_mode": {
    "name": "ipython",
    "version": 3
   },
   "file_extension": ".py",
   "mimetype": "text/x-python",
   "name": "python",
   "nbconvert_exporter": "python",
   "pygments_lexer": "ipython3",
   "version": "3.6.3"
  }
 },
 "nbformat": 4,
 "nbformat_minor": 1
}
