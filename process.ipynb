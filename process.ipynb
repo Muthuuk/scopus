{
 "cells": [
  {
   "cell_type": "markdown",
   "metadata": {},
   "source": [
    "# Process [journalmetrics](http://www.journalmetrics.com/values.php) data into tidy TSVs"
   ]
  },
  {
   "cell_type": "code",
   "execution_count": null,
   "metadata": {
    "collapsed": true
   },
   "outputs": [],
   "source": [
    "import gzip\n",
    "\n",
    "import pandas"
   ]
  },
  {
   "cell_type": "code",
   "execution_count": null,
   "metadata": {
    "collapsed": false
   },
   "outputs": [],
   "source": [
    "# Read dataset\n",
    "url = 'http://www.journalmetrics.com/documents/SNIP_IPP_SJR_complete_1999_2014.xlsx'\n",
    "jbs_df = pandas.read_excel(url, sheetname='Journals and Book Series')\n",
    "prc_df = pandas.read_excel(url, sheetname='Proceedings')\n",
    "\n",
    "for df in jbs_df, prc_df:\n",
    "    df.rename(columns={'Sourcerecord id ': 'scopus_id', 'Print ISSN': 'print', 'E-ISSN': 'electronic'}, inplace=True)"
   ]
  },
  {
   "cell_type": "markdown",
   "metadata": {},
   "source": [
    "## Prepare a dataframe of metrics and values"
   ]
  },
  {
   "cell_type": "code",
   "execution_count": null,
   "metadata": {
    "collapsed": false
   },
   "outputs": [],
   "source": [
    "metrics = ['SNIP', 'IPP', 'SJR']\n",
    "\n",
    "dfs = list()\n",
    "for df in jbs_df, prc_df:\n",
    "    metric_columns = list(df.columns[df.columns.map(lambda x: any(s in x for s in metrics))])\n",
    "    value_df = pandas.melt(df, id_vars='scopus_id', value_vars=metric_columns, var_name='year_metric')\n",
    "    value_df.dropna(inplace=True)\n",
    "    value_df['year'] = value_df.year_metric.map(lambda x: int(x.split(' ')[0]))\n",
    "    value_df['metric'] = value_df.year_metric.map(lambda x: x.split(' ')[1])\n",
    "    value_df.drop('year_metric', axis=1, inplace=True)\n",
    "    dfs.append(value_df)\n",
    "\n",
    "metric_df = pandas.concat(dfs)\n",
    "columns = ['scopus_id', 'year', 'metric', 'value']\n",
    "metric_df = metric_df[columns]\n",
    "metric_df.sort_values(columns[:3], inplace=True)"
   ]
  },
  {
   "cell_type": "code",
   "execution_count": null,
   "metadata": {
    "collapsed": false
   },
   "outputs": [],
   "source": [
    "metric_df.head(2)"
   ]
  },
  {
   "cell_type": "code",
   "execution_count": null,
   "metadata": {
    "collapsed": false
   },
   "outputs": [],
   "source": [
    "metric_df.metric.value_counts()"
   ]
  },
  {
   "cell_type": "code",
   "execution_count": null,
   "metadata": {
    "collapsed": false,
    "scrolled": true
   },
   "outputs": [],
   "source": [
    "with gzip.open('data/metrics.tsv.gz', 'wt') as write_file:\n",
    "    metric_df.to_csv(write_file, sep='\\t', index=False, float_format='%.4g')"
   ]
  },
  {
   "cell_type": "markdown",
   "metadata": {},
   "source": [
    "## Prepare a dataframe of ISSNs"
   ]
  },
  {
   "cell_type": "code",
   "execution_count": null,
   "metadata": {
    "collapsed": true
   },
   "outputs": [],
   "source": [
    "dfs = list()\n",
    "for df in jbs_df, prc_df:\n",
    "    df = pandas.melt(df, id_vars='scopus_id', value_vars=['print', 'electronic'], var_name='issn_type', value_name='issn')\n",
    "    df.dropna(inplace=True)\n",
    "    dfs.append(df)\n",
    "issn_df = pandas.concat(dfs)"
   ]
  },
  {
   "cell_type": "code",
   "execution_count": null,
   "metadata": {
    "collapsed": false
   },
   "outputs": [],
   "source": [
    "issn_df.issn_type.value_counts()"
   ]
  },
  {
   "cell_type": "code",
   "execution_count": null,
   "metadata": {
    "collapsed": false
   },
   "outputs": [],
   "source": [
    "issn_df.head(2)"
   ]
  },
  {
   "cell_type": "code",
   "execution_count": null,
   "metadata": {
    "collapsed": true
   },
   "outputs": [],
   "source": [
    "issn_df.to_csv('data/issn.tsv', sep='\\t', index=False)"
   ]
  }
 ],
 "metadata": {
  "kernelspec": {
   "display_name": "Python 3",
   "language": "python",
   "name": "python3"
  },
  "language_info": {
   "codemirror_mode": {
    "name": "ipython",
    "version": 3
   },
   "file_extension": ".py",
   "mimetype": "text/x-python",
   "name": "python",
   "nbconvert_exporter": "python",
   "pygments_lexer": "ipython3",
   "version": "3.5.1"
  }
 },
 "nbformat": 4,
 "nbformat_minor": 0
}
