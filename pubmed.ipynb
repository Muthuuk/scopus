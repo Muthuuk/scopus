{
 "cells": [
  {
   "cell_type": "markdown",
   "metadata": {},
   "source": [
    "# Map journalmetrics to NLM IDs for PubMed compatibility"
   ]
  },
  {
   "cell_type": "code",
   "execution_count": 1,
   "metadata": {
    "collapsed": true
   },
   "outputs": [],
   "source": [
    "library(dplyr, warn=F)\n",
    "library(ggplot2)"
   ]
  },
  {
   "cell_type": "code",
   "execution_count": 2,
   "metadata": {
    "collapsed": false
   },
   "outputs": [
    {
     "name": "stderr",
     "output_type": "stream",
     "text": [
      "Joining by: \"scopus_id\"\n"
     ]
    },
    {
     "data": {
      "text/html": [
       "<table>\n",
       "<thead><tr><th></th><th scope=col>scopus_id</th><th scope=col>issn_type</th><th scope=col>issn</th><th scope=col>year</th><th scope=col>metric</th><th scope=col>value</th></tr></thead>\n",
       "<tbody>\n",
       "\t<tr><th scope=row>1</th><td>18500162600</td><td>print</td><td>15343219</td><td>2004</td><td>IPP</td><td>0</td></tr>\n",
       "\t<tr><th scope=row>2</th><td>18500162600</td><td>print</td><td>15343219</td><td>2004</td><td>SJR</td><td>0.102</td></tr>\n",
       "</tbody>\n",
       "</table>\n"
      ],
      "text/latex": [
       "\\begin{tabular}{r|llllll}\n",
       "  & scopus_id & issn_type & issn & year & metric & value\\\\\n",
       "\\hline\n",
       "\t1 & 18500162600 & print & 15343219 & 2004 & IPP & 0\\\\\n",
       "\t2 & 18500162600 & print & 15343219 & 2004 & SJR & 0.102\\\\\n",
       "\\end{tabular}\n"
      ],
      "text/plain": [
       "Source: local data frame [2 x 6]\n",
       "\n",
       "    scopus_id issn_type     issn  year metric value\n",
       "        (chr)     (chr)    (chr) (int)  (chr) (dbl)\n",
       "1 18500162600     print 15343219  2004    IPP 0.000\n",
       "2 18500162600     print 15343219  2004    SJR 0.102"
      ]
     },
     "execution_count": 2,
     "metadata": {},
     "output_type": "execute_result"
    }
   ],
   "source": [
    "# Read journalmetrics data\n",
    "col_types = list(scopus_id = readr::col_character())\n",
    "metric_df = file.path('data', 'metrics.tsv.gz') %>%\n",
    "  readr::read_tsv(col_types = col_types)\n",
    "\n",
    "col_types = list(scopus_id = readr::col_character(), issn = readr::col_character())\n",
    "issn_df = file.path('data', 'issn.tsv') %>%\n",
    "  readr::read_tsv(col_types = col_types)\n",
    "\n",
    "metric_df = issn_df %>%\n",
    "  dplyr::inner_join(metric_df)\n",
    "\n",
    "head(metric_df, 2)"
   ]
  },
  {
   "cell_type": "code",
   "execution_count": 3,
   "metadata": {
    "collapsed": false
   },
   "outputs": [
    {
     "name": "stderr",
     "output_type": "stream",
     "text": [
      "Joining by: \"issn\"\n"
     ]
    },
    {
     "data": {
      "text/html": [
       "<table>\n",
       "<thead><tr><th></th><th scope=col>journal_nlm_id</th><th scope=col>year</th><th scope=col>metric</th><th scope=col>value</th></tr></thead>\n",
       "<tbody>\n",
       "\t<tr><th scope=row>1</th><td>0000266</td><td>1999</td><td>IPP</td><td>3.578</td></tr>\n",
       "\t<tr><th scope=row>2</th><td>0000266</td><td>1999</td><td>SJR</td><td>2.389</td></tr>\n",
       "</tbody>\n",
       "</table>\n"
      ],
      "text/latex": [
       "\\begin{tabular}{r|llll}\n",
       "  & journal_nlm_id & year & metric & value\\\\\n",
       "\\hline\n",
       "\t1 & 0000266 & 1999 & IPP & 3.578\\\\\n",
       "\t2 & 0000266 & 1999 & SJR & 2.389\\\\\n",
       "\\end{tabular}\n"
      ],
      "text/plain": [
       "Source: local data frame [2 x 4]\n",
       "\n",
       "  journal_nlm_id  year metric value\n",
       "           (chr) (int)  (chr) (dbl)\n",
       "1        0000266  1999    IPP 3.578\n",
       "2        0000266  1999    SJR 2.389"
      ]
     },
     "execution_count": 3,
     "metadata": {},
     "output_type": "execute_result"
    }
   ],
   "source": [
    "# Read PubMed Journals\n",
    "journal_df = 'https://raw.githubusercontent.com/dhimmel/delays/756ffebf309499a500ec1f83d68803c044ec8729/data/pubmed-journals.tsv' %>%\n",
    "  readr::read_tsv()\n",
    "\n",
    "metric_df = journal_df %>%\n",
    "  tidyr::gather(key = 'issn_type', value = 'issn', `ISSN (Print)`, `ISSN (Online)`) %>%\n",
    "  dplyr::distinct() %>%\n",
    "  dplyr::transmute(journal_nlm_id = NlmId, issn) %>%\n",
    "  dplyr::mutate(issn = sub('-', '', issn)) %>%\n",
    "  dplyr::inner_join(metric_df) %>%\n",
    "  dplyr::group_by(journal_nlm_id, year, metric) %>%\n",
    "  dplyr::summarize(\n",
    "    value = mean(value)\n",
    "  ) %>% dplyr::ungroup()\n",
    "\n",
    "head(metric_df, 2)"
   ]
  },
  {
   "cell_type": "code",
   "execution_count": 4,
   "metadata": {
    "collapsed": true
   },
   "outputs": [],
   "source": [
    "# Save pubmed metrics to a gzipped TSV\n",
    "path = file.path('data', 'pubmed-metrics.tsv')\n",
    "metric_df %>%\n",
    "  readr::write_tsv(path)\n",
    "system2('gzip', c('--force', path))"
   ]
  }
 ],
 "metadata": {
  "kernelspec": {
   "display_name": "R",
   "language": "R",
   "name": "ir"
  },
  "language_info": {
   "codemirror_mode": "r",
   "file_extension": ".r",
   "mimetype": "text/x-r-source",
   "name": "R",
   "pygments_lexer": "r",
   "version": "3.2.2"
  }
 },
 "nbformat": 4,
 "nbformat_minor": 0
}
