{
 "cells": [
  {
   "cell_type": "markdown",
   "metadata": {},
   "source": [
    "# Process [journalmetrics](http://www.journalmetrics.com/values.php) data into tidy TSVs"
   ]
  },
  {
   "cell_type": "code",
   "execution_count": 1,
   "metadata": {
    "collapsed": true
   },
   "outputs": [],
   "source": [
    "import gzip\n",
    "\n",
    "import pandas"
   ]
  },
  {
   "cell_type": "code",
   "execution_count": 2,
   "metadata": {
    "collapsed": false
   },
   "outputs": [],
   "source": [
    "# Read dataset\n",
    "url = 'http://www.journalmetrics.com/documents/SNIP_IPP_SJR_complete_1999_2014.xlsx'\n",
    "jbs_df = pandas.read_excel(url, sheetname='Journals and Book Series')\n",
    "prc_df = pandas.read_excel(url, sheetname='Proceedings')\n",
    "\n",
    "for df in jbs_df, prc_df:\n",
    "    df.rename(columns={'Sourcerecord id ': 'scopus_id', 'Print ISSN': 'print', 'E-ISSN': 'electronic'}, inplace=True)"
   ]
  },
  {
   "cell_type": "markdown",
   "metadata": {},
   "source": [
    "## Prepare a dataframe of metrics and values"
   ]
  },
  {
   "cell_type": "code",
   "execution_count": 3,
   "metadata": {
    "collapsed": false
   },
   "outputs": [],
   "source": [
    "metrics = ['SNIP', 'IPP', 'SJR']\n",
    "\n",
    "dfs = list()\n",
    "for df in jbs_df, prc_df:\n",
    "    metric_columns = list(df.columns[df.columns.map(lambda x: any(s in x for s in metrics))])\n",
    "    value_df = pandas.melt(df, id_vars='scopus_id', value_vars=metric_columns, var_name='year_metric')\n",
    "    value_df.dropna(inplace=True)\n",
    "    value_df['year'] = value_df.year_metric.map(lambda x: int(x.split(' ')[0]))\n",
    "    value_df['metric'] = value_df.year_metric.map(lambda x: x.split(' ')[1])\n",
    "    value_df.drop('year_metric', axis=1, inplace=True)\n",
    "    dfs.append(value_df)\n",
    "\n",
    "metric_df = pandas.concat(dfs)\n",
    "columns = ['scopus_id', 'year', 'metric', 'value']\n",
    "metric_df = metric_df[columns]\n",
    "metric_df.sort_values(columns[:3], inplace=True)"
   ]
  },
  {
   "cell_type": "code",
   "execution_count": 4,
   "metadata": {
    "collapsed": false
   },
   "outputs": [
    {
     "data": {
      "text/html": [
       "<div>\n",
       "<table border=\"1\" class=\"dataframe\">\n",
       "  <thead>\n",
       "    <tr style=\"text-align: right;\">\n",
       "      <th></th>\n",
       "      <th>scopus_id</th>\n",
       "      <th>year</th>\n",
       "      <th>metric</th>\n",
       "      <th>value</th>\n",
       "    </tr>\n",
       "  </thead>\n",
       "  <tbody>\n",
       "    <tr>\n",
       "      <th>157311</th>\n",
       "      <td>12000</td>\n",
       "      <td>2000</td>\n",
       "      <td>IPP</td>\n",
       "      <td>0.50</td>\n",
       "    </tr>\n",
       "    <tr>\n",
       "      <th>191595</th>\n",
       "      <td>12000</td>\n",
       "      <td>2000</td>\n",
       "      <td>SJR</td>\n",
       "      <td>0.26</td>\n",
       "    </tr>\n",
       "  </tbody>\n",
       "</table>\n",
       "</div>"
      ],
      "text/plain": [
       "        scopus_id  year metric  value\n",
       "157311      12000  2000    IPP   0.50\n",
       "191595      12000  2000    SJR   0.26"
      ]
     },
     "execution_count": 4,
     "metadata": {},
     "output_type": "execute_result"
    }
   ],
   "source": [
    "metric_df.head(2)"
   ]
  },
  {
   "cell_type": "code",
   "execution_count": 5,
   "metadata": {
    "collapsed": false
   },
   "outputs": [
    {
     "data": {
      "text/plain": [
       "SNIP    305610\n",
       "IPP     305610\n",
       "SJR     288662\n",
       "Name: metric, dtype: int64"
      ]
     },
     "execution_count": 5,
     "metadata": {},
     "output_type": "execute_result"
    }
   ],
   "source": [
    "metric_df.metric.value_counts()"
   ]
  },
  {
   "cell_type": "code",
   "execution_count": 6,
   "metadata": {
    "collapsed": false,
    "scrolled": true
   },
   "outputs": [],
   "source": [
    "with gzip.open('data/metrics.tsv.gz', 'wt') as write_file:\n",
    "    metric_df.to_csv(write_file, sep='\\t', index=False, float_format='%.4g')"
   ]
  },
  {
   "cell_type": "markdown",
   "metadata": {},
   "source": [
    "## Prepare a dataframe of ISSNs"
   ]
  },
  {
   "cell_type": "code",
   "execution_count": 7,
   "metadata": {
    "collapsed": true
   },
   "outputs": [],
   "source": [
    "dfs = list()\n",
    "for df in jbs_df, prc_df:\n",
    "    df = pandas.melt(df, id_vars='scopus_id', value_vars=['print', 'electronic'], var_name='issn_type', value_name='issn')\n",
    "    df.dropna(inplace=True)\n",
    "    dfs.append(df)\n",
    "issn_df = pandas.concat(dfs)"
   ]
  },
  {
   "cell_type": "code",
   "execution_count": 8,
   "metadata": {
    "collapsed": false
   },
   "outputs": [
    {
     "data": {
      "text/plain": [
       "print         34400\n",
       "electronic     8366\n",
       "Name: issn_type, dtype: int64"
      ]
     },
     "execution_count": 8,
     "metadata": {},
     "output_type": "execute_result"
    }
   ],
   "source": [
    "issn_df.issn_type.value_counts()"
   ]
  },
  {
   "cell_type": "code",
   "execution_count": 9,
   "metadata": {
    "collapsed": false
   },
   "outputs": [
    {
     "data": {
      "text/html": [
       "<div>\n",
       "<table border=\"1\" class=\"dataframe\">\n",
       "  <thead>\n",
       "    <tr style=\"text-align: right;\">\n",
       "      <th></th>\n",
       "      <th>scopus_id</th>\n",
       "      <th>issn_type</th>\n",
       "      <th>issn</th>\n",
       "    </tr>\n",
       "  </thead>\n",
       "  <tbody>\n",
       "    <tr>\n",
       "      <th>0</th>\n",
       "      <td>18500162600</td>\n",
       "      <td>print</td>\n",
       "      <td>15343219</td>\n",
       "    </tr>\n",
       "    <tr>\n",
       "      <th>2</th>\n",
       "      <td>19700200922</td>\n",
       "      <td>print</td>\n",
       "      <td>01285157</td>\n",
       "    </tr>\n",
       "  </tbody>\n",
       "</table>\n",
       "</div>"
      ],
      "text/plain": [
       "     scopus_id issn_type      issn\n",
       "0  18500162600     print  15343219\n",
       "2  19700200922     print  01285157"
      ]
     },
     "execution_count": 9,
     "metadata": {},
     "output_type": "execute_result"
    }
   ],
   "source": [
    "issn_df.head(2)"
   ]
  },
  {
   "cell_type": "code",
   "execution_count": 10,
   "metadata": {
    "collapsed": true
   },
   "outputs": [],
   "source": [
    "issn_df.to_csv('data/issn.tsv', sep='\\t', index=False)"
   ]
  }
 ],
 "metadata": {
  "kernelspec": {
   "display_name": "Python 3",
   "language": "python",
   "name": "python3"
  },
  "language_info": {
   "codemirror_mode": {
    "name": "ipython",
    "version": 3
   },
   "file_extension": ".py",
   "mimetype": "text/x-python",
   "name": "python",
   "nbconvert_exporter": "python",
   "pygments_lexer": "ipython3",
   "version": "3.5.1"
  }
 },
 "nbformat": 4,
 "nbformat_minor": 0
}
