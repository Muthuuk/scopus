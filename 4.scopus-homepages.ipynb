{
 "cells": [
  {
   "cell_type": "markdown",
   "metadata": {},
   "source": [
    "# Compile journal homepages links from Scopus\n",
    "\n",
    "+ https://github.com/dhimmel/journalmetrics/issues/2\n",
    "+ https://twitter.com/dhimmel/status/871007923010490369\n",
    "+ https://api.elsevier.com/documentation/SerialTitleAPI.wadl#N102B5"
   ]
  },
  {
   "cell_type": "code",
   "execution_count": 1,
   "metadata": {
    "collapsed": true
   },
   "outputs": [],
   "source": [
    "import os\n",
    "import xml.etree.ElementTree\n",
    "import shelve\n",
    "import logging\n",
    "import json\n",
    "import lzma\n",
    "\n",
    "import pandas\n",
    "import requests"
   ]
  },
  {
   "cell_type": "markdown",
   "metadata": {},
   "source": [
    "## Read Scopus ISSNs"
   ]
  },
  {
   "cell_type": "code",
   "execution_count": 2,
   "metadata": {},
   "outputs": [
    {
     "data": {
      "text/html": [
       "<div>\n",
       "<style scoped>\n",
       "    .dataframe tbody tr th:only-of-type {\n",
       "        vertical-align: middle;\n",
       "    }\n",
       "\n",
       "    .dataframe tbody tr th {\n",
       "        vertical-align: top;\n",
       "    }\n",
       "\n",
       "    .dataframe thead th {\n",
       "        text-align: right;\n",
       "    }\n",
       "</style>\n",
       "<table border=\"1\" class=\"dataframe\">\n",
       "  <thead>\n",
       "    <tr style=\"text-align: right;\">\n",
       "      <th></th>\n",
       "      <th>scopus_id</th>\n",
       "      <th>issn_type</th>\n",
       "      <th>issn</th>\n",
       "    </tr>\n",
       "  </thead>\n",
       "  <tbody>\n",
       "    <tr>\n",
       "      <th>0</th>\n",
       "      <td>12000</td>\n",
       "      <td>print</td>\n",
       "      <td>1527-6228</td>\n",
       "    </tr>\n",
       "    <tr>\n",
       "      <th>1</th>\n",
       "      <td>12001</td>\n",
       "      <td>print</td>\n",
       "      <td>0022-5002</td>\n",
       "    </tr>\n",
       "    <tr>\n",
       "      <th>2</th>\n",
       "      <td>12002</td>\n",
       "      <td>electronic</td>\n",
       "      <td>1520-6696</td>\n",
       "    </tr>\n",
       "  </tbody>\n",
       "</table>\n",
       "</div>"
      ],
      "text/plain": [
       "   scopus_id   issn_type       issn\n",
       "0      12000       print  1527-6228\n",
       "1      12001       print  0022-5002\n",
       "2      12002  electronic  1520-6696"
      ]
     },
     "execution_count": 2,
     "metadata": {},
     "output_type": "execute_result"
    }
   ],
   "source": [
    "path = os.path.join('data', 'issn.tsv')\n",
    "issn_df = pandas.read_table(path)\n",
    "issn_df.head(3)"
   ]
  },
  {
   "cell_type": "code",
   "execution_count": 3,
   "metadata": {},
   "outputs": [
    {
     "data": {
      "text/plain": [
       "47154"
      ]
     },
     "execution_count": 3,
     "metadata": {},
     "output_type": "execute_result"
    }
   ],
   "source": [
    "issns = sorted(set(issn_df.issn))\n",
    "len(issns)"
   ]
  },
  {
   "cell_type": "markdown",
   "metadata": {},
   "source": [
    "## Query Scopus API for title metadata\n",
    "\n",
    "Use a shelve to avoid repeating queries across executions."
   ]
  },
  {
   "cell_type": "code",
   "execution_count": 4,
   "metadata": {
    "collapsed": true
   },
   "outputs": [],
   "source": [
    "def get_response_text(issn, cache={}):\n",
    "    if issn in cache:\n",
    "        return cache[issn]\n",
    "    url = f'https://api.elsevier.com/content/serial/title/issn/{issn}'\n",
    "    params = {\n",
    "        'httpAccept': 'text/xml',\n",
    "    }\n",
    "    response = requests.get(url, params)\n",
    "    if not response.ok:\n",
    "        logging.info(f'{response.url} returned {response.status_code}:\\n{response.text}')\n",
    "    text = response.text\n",
    "    cache[issn] = text\n",
    "    return text\n",
    "\n",
    "def get_homepage(text):\n",
    "    tree = xml.etree.ElementTree.fromstring(text)\n",
    "    elem = tree.find('entry/link[@ref=\"homepage\"]')\n",
    "    href = None if elem is None else elem.get('href')\n",
    "    return href"
   ]
  },
  {
   "cell_type": "code",
   "execution_count": 5,
   "metadata": {
    "collapsed": true
   },
   "outputs": [],
   "source": [
    "path = os.path.join('data', 'homepages', 'issn-scopus-api.shelve')\n",
    "cache = shelve.open(path, protocol=4)"
   ]
  },
  {
   "cell_type": "code",
   "execution_count": 6,
   "metadata": {
    "scrolled": false
   },
   "outputs": [
    {
     "data": {
      "text/plain": [
       "27392"
      ]
     },
     "execution_count": 6,
     "metadata": {},
     "output_type": "execute_result"
    }
   ],
   "source": [
    "issn_to_url = dict()\n",
    "for issn in issns:\n",
    "    text = get_response_text(issn, cache)\n",
    "    if not text:\n",
    "        continue\n",
    "    url = get_homepage(text)\n",
    "    if not url:\n",
    "        continue\n",
    "    issn_to_url[issn] = url\n",
    "len(issn_to_url)"
   ]
  },
  {
   "cell_type": "code",
   "execution_count": 7,
   "metadata": {},
   "outputs": [
    {
     "data": {
      "text/plain": [
       "47154"
      ]
     },
     "execution_count": 7,
     "metadata": {},
     "output_type": "execute_result"
    }
   ],
   "source": [
    "len(cache)"
   ]
  },
  {
   "cell_type": "code",
   "execution_count": 8,
   "metadata": {
    "collapsed": true
   },
   "outputs": [],
   "source": [
    "cache_to_export = dict(cache)"
   ]
  },
  {
   "cell_type": "code",
   "execution_count": 9,
   "metadata": {
    "collapsed": true
   },
   "outputs": [],
   "source": [
    "cache.close()"
   ]
  },
  {
   "cell_type": "markdown",
   "metadata": {},
   "source": [
    "## Create homepage mapping TSVs"
   ]
  },
  {
   "cell_type": "code",
   "execution_count": 10,
   "metadata": {
    "scrolled": false
   },
   "outputs": [
    {
     "data": {
      "text/html": [
       "<div>\n",
       "<style scoped>\n",
       "    .dataframe tbody tr th:only-of-type {\n",
       "        vertical-align: middle;\n",
       "    }\n",
       "\n",
       "    .dataframe tbody tr th {\n",
       "        vertical-align: top;\n",
       "    }\n",
       "\n",
       "    .dataframe thead th {\n",
       "        text-align: right;\n",
       "    }\n",
       "</style>\n",
       "<table border=\"1\" class=\"dataframe\">\n",
       "  <thead>\n",
       "    <tr style=\"text-align: right;\">\n",
       "      <th></th>\n",
       "      <th>issn</th>\n",
       "      <th>homepage</th>\n",
       "    </tr>\n",
       "  </thead>\n",
       "  <tbody>\n",
       "    <tr>\n",
       "      <th>0</th>\n",
       "      <td>0001-0782</td>\n",
       "      <td>http://www.acm.org/pubs/contents/journals/cacm/</td>\n",
       "    </tr>\n",
       "    <tr>\n",
       "      <th>1</th>\n",
       "      <td>0001-1452</td>\n",
       "      <td>http://www.aiaa.org/content.cfm?pageid=322&amp;lup...</td>\n",
       "    </tr>\n",
       "  </tbody>\n",
       "</table>\n",
       "</div>"
      ],
      "text/plain": [
       "        issn                                           homepage\n",
       "0  0001-0782    http://www.acm.org/pubs/contents/journals/cacm/\n",
       "1  0001-1452  http://www.aiaa.org/content.cfm?pageid=322&lup..."
      ]
     },
     "execution_count": 10,
     "metadata": {},
     "output_type": "execute_result"
    }
   ],
   "source": [
    "issn_homepage_df = pandas.DataFrame.from_records(list(issn_to_url.items()), columns=['issn', 'homepage'])\n",
    "issn_homepage_df.head(2)"
   ]
  },
  {
   "cell_type": "code",
   "execution_count": 11,
   "metadata": {},
   "outputs": [
    {
     "data": {
      "text/html": [
       "<div>\n",
       "<style scoped>\n",
       "    .dataframe tbody tr th:only-of-type {\n",
       "        vertical-align: middle;\n",
       "    }\n",
       "\n",
       "    .dataframe tbody tr th {\n",
       "        vertical-align: top;\n",
       "    }\n",
       "\n",
       "    .dataframe thead th {\n",
       "        text-align: right;\n",
       "    }\n",
       "</style>\n",
       "<table border=\"1\" class=\"dataframe\">\n",
       "  <thead>\n",
       "    <tr style=\"text-align: right;\">\n",
       "      <th></th>\n",
       "      <th>scopus_id</th>\n",
       "      <th>homepage</th>\n",
       "    </tr>\n",
       "  </thead>\n",
       "  <tbody>\n",
       "    <tr>\n",
       "      <th>0</th>\n",
       "      <td>12000</td>\n",
       "      <td>http://jtc.colstate.edu</td>\n",
       "    </tr>\n",
       "    <tr>\n",
       "      <th>1</th>\n",
       "      <td>12001</td>\n",
       "      <td>http://seab.envmed.rochester.edu/jeab/index.html</td>\n",
       "    </tr>\n",
       "    <tr>\n",
       "      <th>2</th>\n",
       "      <td>12002</td>\n",
       "      <td>http://www.interscience.wiley.com/jpages/0022-...</td>\n",
       "    </tr>\n",
       "  </tbody>\n",
       "</table>\n",
       "</div>"
      ],
      "text/plain": [
       "   scopus_id                                           homepage\n",
       "0      12000                            http://jtc.colstate.edu\n",
       "1      12001   http://seab.envmed.rochester.edu/jeab/index.html\n",
       "2      12002  http://www.interscience.wiley.com/jpages/0022-..."
      ]
     },
     "execution_count": 11,
     "metadata": {},
     "output_type": "execute_result"
    }
   ],
   "source": [
    "scopus_homepage_df = issn_df.merge(issn_homepage_df)\n",
    "scopus_homepage_df = scopus_homepage_df[['scopus_id', 'homepage']].drop_duplicates()\n",
    "scopus_homepage_df.head(3)"
   ]
  },
  {
   "cell_type": "code",
   "execution_count": 12,
   "metadata": {},
   "outputs": [
    {
     "data": {
      "text/plain": [
       "20992"
      ]
     },
     "execution_count": 12,
     "metadata": {},
     "output_type": "execute_result"
    }
   ],
   "source": [
    "len(scopus_homepage_df)"
   ]
  },
  {
   "cell_type": "code",
   "execution_count": 13,
   "metadata": {},
   "outputs": [
    {
     "data": {
      "text/html": [
       "<div>\n",
       "<style scoped>\n",
       "    .dataframe tbody tr th:only-of-type {\n",
       "        vertical-align: middle;\n",
       "    }\n",
       "\n",
       "    .dataframe tbody tr th {\n",
       "        vertical-align: top;\n",
       "    }\n",
       "\n",
       "    .dataframe thead th {\n",
       "        text-align: right;\n",
       "    }\n",
       "</style>\n",
       "<table border=\"1\" class=\"dataframe\">\n",
       "  <thead>\n",
       "    <tr style=\"text-align: right;\">\n",
       "      <th></th>\n",
       "      <th>scopus_id</th>\n",
       "      <th>homepage</th>\n",
       "    </tr>\n",
       "  </thead>\n",
       "  <tbody>\n",
       "  </tbody>\n",
       "</table>\n",
       "</div>"
      ],
      "text/plain": [
       "Empty DataFrame\n",
       "Columns: [scopus_id, homepage]\n",
       "Index: []"
      ]
     },
     "execution_count": 13,
     "metadata": {},
     "output_type": "execute_result"
    }
   ],
   "source": [
    "# Journals with multiple homepage URLs\n",
    "scopus_homepage_df[scopus_homepage_df.duplicated(keep=False)]"
   ]
  },
  {
   "cell_type": "code",
   "execution_count": 14,
   "metadata": {
    "collapsed": true
   },
   "outputs": [],
   "source": [
    "path = os.path.join('data', 'homepages', 'issn-homepages.tsv')\n",
    "issn_homepage_df.to_csv(path, sep='\\t', index=False)\n",
    "\n",
    "path = os.path.join('data', 'homepages', 'scopus-homepages.tsv')\n",
    "scopus_homepage_df.to_csv(path, sep='\\t', index=False)"
   ]
  },
  {
   "cell_type": "markdown",
   "metadata": {},
   "source": [
    "## Export cache to compressed JSON"
   ]
  },
  {
   "cell_type": "code",
   "execution_count": 15,
   "metadata": {
    "collapsed": true
   },
   "outputs": [],
   "source": [
    "path = os.path.join('data', 'homepages', 'issn-scopus-api.json.xz')\n",
    "with lzma.open(path, 'wt') as write_file:\n",
    "    json.dump(cache_to_export, write_file, indent=2, sort_keys=True)"
   ]
  }
 ],
 "metadata": {
  "kernelspec": {
   "display_name": "Python [conda env:scopus]",
   "language": "python",
   "name": "conda-env-scopus-py"
  },
  "language_info": {
   "codemirror_mode": {
    "name": "ipython",
    "version": 3
   },
   "file_extension": ".py",
   "mimetype": "text/x-python",
   "name": "python",
   "nbconvert_exporter": "python",
   "pygments_lexer": "ipython3",
   "version": "3.6.3"
  }
 },
 "nbformat": 4,
 "nbformat_minor": 2
}
